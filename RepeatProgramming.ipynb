{
  "nbformat": 4,
  "nbformat_minor": 0,
  "metadata": {
    "colab": {
      "provenance": []
    },
    "kernelspec": {
      "name": "python3",
      "display_name": "Python 3"
    },
    "language_info": {
      "name": "python"
    }
  },
  "cells": [
    {
      "cell_type": "code",
      "execution_count": 150,
      "metadata": {
        "id": "2ORK8t6lkQsS"
      },
      "outputs": [],
      "source": [
        "import pandas as pd"
      ]
    },
    {
      "cell_type": "code",
      "source": [
        "ireland = pd.read_csv('Ireland.csv')\n",
        "poland = pd.read_csv ('Poland.csv')\n",
        "\n"
      ],
      "metadata": {
        "id": "6PEUU72prW3X"
      },
      "execution_count": 151,
      "outputs": []
    },
    {
      "cell_type": "code",
      "source": [
        "print(poland.head(30))"
      ],
      "metadata": {
        "colab": {
          "base_uri": "https://localhost:8080/"
        },
        "id": "aeZZ-Ny4sDmA",
        "outputId": "a16f0590-537e-4bb4-dd57-0e731a0100f8"
      },
      "execution_count": 152,
      "outputs": [
        {
          "output_type": "stream",
          "name": "stdout",
          "text": [
            "   year  january  february  march  april    may   june   july  august  \\\n",
            "0  2014    23.08     22.17  23.45  22.57  23.54  21.70  21.73   21.75   \n",
            "1  2015    22.49     21.57  24.29  23.60  24.77  23.28  23.02   22.82   \n",
            "2  2016    23.36     23.41  24.72  24.55  25.44  24.38  25.43   24.24   \n",
            "3  2017    25.71     23.55  26.48  25.11  26.82  25.80  25.29   24.95   \n",
            "4  2018    25.06     23.15  24.39  25.26  26.76  25.97  26.38   26.31   \n",
            "5  2019    26.51     25.20  28.15  26.52  28.46  27.35  28.10   28.30   \n",
            "6  2020    28.53     27.54  17.75   6.10   9.80  14.55  18.89   20.14   \n",
            "7  2021    13.59     14.25  15.23  13.97  18.93  21.10  23.52   24.91   \n",
            "\n",
            "   september  october  november  december  \n",
            "0      22.42    23.89     22.41     20.36  \n",
            "1      22.22    25.38     24.53     22.32  \n",
            "2      23.32    25.68     24.61     23.40  \n",
            "3      24.14    26.55     24.88     24.28  \n",
            "4      25.91    28.47     27.22     25.41  \n",
            "5      28.82    31.19     29.39     27.89  \n",
            "6      21.61    18.54     12.42     13.53  \n",
            "7      24.89    26.97     25.11     22.58  \n"
          ]
        }
      ]
    },
    {
      "cell_type": "code",
      "source": [
        "# Setting 'year' as index\n",
        "poland.set_index('year', inplace=True)\n",
        "## By setting the 'year' column as the index, it enhances the clarity and usability of my dataset.\n",
        "# This ensures that each row is uniquely identified by the year, facilitating easy access and retrieval of data."
      ],
      "metadata": {
        "id": "PRMVLH4P2OPr"
      },
      "execution_count": 153,
      "outputs": []
    },
    {
      "cell_type": "code",
      "source": [
        "years_to_remove = [2014, 2015, 2016, 2017]\n",
        "poland.drop(years_to_remove, inplace=True)\n",
        "# By removing unnecessary years, I am cleaning my data and making sure this data will give me same years as my other country data"
      ],
      "metadata": {
        "id": "FvOhYPaqKqop"
      },
      "execution_count": 154,
      "outputs": []
    },
    {
      "cell_type": "code",
      "source": [
        "print(ireland.head(5))"
      ],
      "metadata": {
        "colab": {
          "base_uri": "https://localhost:8080/"
        },
        "id": "XShoXKJhK7jp",
        "outputId": "aa71bf3c-a1ba-4ee2-e7a1-6d6f82436796"
      },
      "execution_count": 228,
      "outputs": [
        {
          "output_type": "stream",
          "name": "stdout",
          "text": [
            "  STATISTIC Statistic Label  TLIST(A1)  Year C01885V02316     Month    UNIT  \\\n",
            "0  TOA11C01        Red line       2018  2018           01   January  Number   \n",
            "1  TOA11C01        Red line       2018  2018           02  February  Number   \n",
            "2  TOA11C01        Red line       2018  2018           03     March  Number   \n",
            "3  TOA11C01        Red line       2018  2018           04     April  Number   \n",
            "4  TOA11C01        Red line       2018  2018           05       May  Number   \n",
            "\n",
            "     VALUE  \n",
            "0  1664495  \n",
            "1  1657562  \n",
            "2  1661098  \n",
            "3  1794424  \n",
            "4  1934553  \n"
          ]
        }
      ]
    },
    {
      "cell_type": "code",
      "source": [
        "# Filtering the dataset to drop rows with 'Red line' or 'Green line' in the 'Statistic Label' column\n",
        "ireland_filtered = ireland.drop(ireland[ireland['Statistic Label'].isin(['Red line', 'Green line'])].index)\n",
        "# Justification:\n",
        "# By removing rows with 'Red line' or 'Green line' in the 'Statistic Label' column,\n",
        "# I ensure that my dataset contains only relevant information for my analysis.\n",
        "# This helps in focusing on the data that is pertinent to my research objectives\n",
        "# and improves the accuracy and reliability of my analysis results."
      ],
      "metadata": {
        "id": "w7q1B8RiMuUE"
      },
      "execution_count": 156,
      "outputs": []
    },
    {
      "cell_type": "code",
      "source": [
        "ireland_filtered.set_index('Year', inplace=True)\n"
      ],
      "metadata": {
        "id": "Jxy-__ivNWyy"
      },
      "execution_count": 157,
      "outputs": []
    },
    {
      "cell_type": "code",
      "source": [
        "# Creating a pivot table with 'Month' as columns and 'VALUE' as values\n",
        "ireland_pivot = ireland.pivot(columns='Month', values='VALUE')\n",
        "# Justification:\n",
        "# By creating a pivot table with 'Month' as columns and 'VALUE' as values,\n",
        "# I restructure my dataset to better understand the variation of values across different months.\n",
        "# This facilitates easier comparison and analysis of data trends over time,\n",
        "# enabling me to gain insights into seasonal patterns and fluctuations in the dataset."
      ],
      "metadata": {
        "id": "PeBoSlmpPIzx"
      },
      "execution_count": 158,
      "outputs": []
    },
    {
      "cell_type": "code",
      "source": [
        "# Changing column names to lowercase\n",
        "ireland_pivot.columns = ireland_pivot.columns.str.lower()\n",
        "# Justification:\n",
        "# By converting column names to lowercase, I ensure consistency in the naming convention\n",
        "# and improve the readability of my dataset. This makes it easier to work with the data\n",
        "# and avoids potential errors or confusion that may arise from inconsistent naming conventions."
      ],
      "metadata": {
        "id": "vj_bOehKPWZP"
      },
      "execution_count": 159,
      "outputs": []
    },
    {
      "cell_type": "code",
      "source": [
        "ireland_pivot.columns = [\n",
        "    'january', 'february', 'march', 'april', 'may', 'june',\n",
        "    'july', 'august', 'september', 'october', 'november', 'december', 'all_months'\n",
        "]\n"
      ],
      "metadata": {
        "id": "H5Zi2ozmPLl1"
      },
      "execution_count": 160,
      "outputs": []
    },
    {
      "cell_type": "code",
      "source": [],
      "metadata": {
        "id": "7gv_1H7rPNN5"
      },
      "execution_count": 160,
      "outputs": []
    },
    {
      "cell_type": "code",
      "source": [
        "# Listing of columns to drop\n",
        "columns_to_drop = ['STATISTIC', 'Statistic Label', 'TLIST(A1)', 'C01885V02316', 'UNIT']\n",
        "\n",
        "# Dropping the columns\n",
        "ireland_filtered.drop(columns_to_drop, axis=1, inplace=True)\n",
        "# Justification:\n",
        "# The listed columns contain irrelevant or redundant information for my analysis.\n",
        "# By dropping these columns, I streamline my dataset and focus on the essential\n",
        "# variables that are pertinent to my research objectives. This improves the clarity\n",
        "# and efficiency of my analysis by reducing noise and unnecessary complexity in the dataset."
      ],
      "metadata": {
        "id": "xTCxPuP1Pjfd"
      },
      "execution_count": 161,
      "outputs": []
    },
    {
      "cell_type": "code",
      "source": [
        "ireland_filtered = ireland_filtered[ireland_filtered['Month'] != 'All months']\n"
      ],
      "metadata": {
        "id": "yKsueO9lRiFC"
      },
      "execution_count": 162,
      "outputs": []
    },
    {
      "cell_type": "code",
      "source": [
        "print(ireland_filtered.head(25))"
      ],
      "metadata": {
        "colab": {
          "base_uri": "https://localhost:8080/"
        },
        "id": "N4syKZdrQrzz",
        "outputId": "d7e5ae13-114d-478a-b781-25c1801e8067"
      },
      "execution_count": 163,
      "outputs": [
        {
          "output_type": "stream",
          "name": "stdout",
          "text": [
            "          Month    VALUE\n",
            "Year                    \n",
            "2018    January  3218649\n",
            "2018   February  3118289\n",
            "2018      March  3097570\n",
            "2018      April  3350056\n",
            "2018        May  3622338\n",
            "2018       June  3378751\n",
            "2018       July  3490513\n",
            "2018     August  3363274\n",
            "2018  September  3487373\n",
            "2018    October  3919977\n",
            "2018   November  4017567\n",
            "2018   December  3772612\n",
            "2019    January  3658484\n",
            "2019   February  3727609\n",
            "2019      March  4069124\n",
            "2019      April  3826763\n",
            "2019        May  4003472\n",
            "2019       June  3750724\n",
            "2019       July  4130610\n",
            "2019     August  3781395\n",
            "2019  September  4166802\n",
            "2019    October  4502319\n",
            "2019   November  4496717\n",
            "2019   December  4233212\n",
            "2020    January  3799176\n"
          ]
        }
      ]
    },
    {
      "cell_type": "code",
      "source": [
        "ireland_pivot = ireland_filtered.pivot_table(index='Year', columns='Month', values='VALUE', aggfunc='first')\n"
      ],
      "metadata": {
        "id": "5a2CIrJASFdG"
      },
      "execution_count": 164,
      "outputs": []
    },
    {
      "cell_type": "code",
      "source": [
        "# Dropping the year 2022 from ireland_pivot dataset\n",
        "ireland_pivot.drop(2022, inplace=True)\n"
      ],
      "metadata": {
        "id": "5TQDMSLFjnJG"
      },
      "execution_count": 181,
      "outputs": []
    },
    {
      "cell_type": "code",
      "source": [
        "# Defining the correct order of months\n",
        "months_order = ['January', 'February', 'March', 'April', 'May', 'June',\n",
        "                'July', 'August', 'September', 'October', 'November', 'December']\n",
        "\n",
        "# Reindexing the ireland_pivot DataFrame to match the correct order of months\n",
        "ireland_pivot = ireland_pivot.reindex(months_order, axis=1)\n",
        "\n"
      ],
      "metadata": {
        "id": "n-eAjIjlmdOm"
      },
      "execution_count": 192,
      "outputs": []
    },
    {
      "cell_type": "code",
      "source": [
        "print(ireland_pivot.head())"
      ],
      "metadata": {
        "colab": {
          "base_uri": "https://localhost:8080/"
        },
        "id": "t5wtFZgFaIw3",
        "outputId": "f7652bd4-d572-43b6-c0e5-ddd6cfee02b0"
      },
      "execution_count": 193,
      "outputs": [
        {
          "output_type": "stream",
          "name": "stdout",
          "text": [
            "      January  February    March    April      May     June     July   August  \\\n",
            "Year                                                                            \n",
            "2018  3218649   3118289  3097570  3350056  3622338  3378751  3490513  3363274   \n",
            "2019  3658484   3727609  4069124  3826763  4003472  3750724  4130610  3781395   \n",
            "2020  3799176   3770492  1950743   228633   368914   762376  1293479  1469350   \n",
            "2021   628704    643480   836934   940426  1366567  1712148  1821536  1883500   \n",
            "\n",
            "      September  October  November  December  \n",
            "Year                                          \n",
            "2018    3487373  3919977   4017567   3772612  \n",
            "2019    4166802  4502319   4496717   4233212  \n",
            "2020    1534789  1325561   1024219   1648324  \n",
            "2021    2222412  2525575   2646334   2253703  \n"
          ]
        }
      ]
    },
    {
      "cell_type": "code",
      "source": [
        "print(poland.head())"
      ],
      "metadata": {
        "colab": {
          "base_uri": "https://localhost:8080/"
        },
        "id": "aMgHrhwBaNog",
        "outputId": "252153d4-f5fa-423f-86e0-ca4357127fd6"
      },
      "execution_count": 175,
      "outputs": [
        {
          "output_type": "stream",
          "name": "stdout",
          "text": [
            "      january  february    march    april      may     june     july   august  \\\n",
            "year                                                                            \n",
            "2018  2506000   2315000  2439000  2526000  2676000  2597000  2638000  2631000   \n",
            "2019  2651000   2520000  2815000  2652000  2846000  2735000  2810000  2830000   \n",
            "2020  2853000   2754000  1775000   610000   980000  1455000  1889000  2014000   \n",
            "2021  1359000   1425000  1523000  1397000  1893000  2110000  2352000  2491000   \n",
            "\n",
            "      september  october  november  december  \n",
            "year                                          \n",
            "2018    2591000  2847000   2722000   2541000  \n",
            "2019    2882000  3119000   2939000   2789000  \n",
            "2020    2161000  1854000   1242000   1353000  \n",
            "2021    2489000  2697000   2511000   2258000  \n"
          ]
        }
      ]
    },
    {
      "cell_type": "code",
      "source": [
        "ireland_pivot.columns.name = None\n",
        "poland.columns.name = None\n"
      ],
      "metadata": {
        "id": "mVNFK-c-afIQ"
      },
      "execution_count": 167,
      "outputs": []
    },
    {
      "cell_type": "code",
      "source": [
        " poland = poland * 100000\n",
        "# using just once  to make correct amount"
      ],
      "metadata": {
        "id": "YhUclzhnbnAt"
      },
      "execution_count": 172,
      "outputs": []
    },
    {
      "cell_type": "code",
      "source": [
        "poland = poland.astype(int)"
      ],
      "metadata": {
        "colab": {
          "base_uri": "https://localhost:8080/",
          "height": 211
        },
        "id": "BjMSxBkPcZbD",
        "outputId": "cdf3496d-bf0e-4c37-b162-9db513ffbb71"
      },
      "execution_count": 229,
      "outputs": [
        {
          "output_type": "error",
          "ename": "SyntaxError",
          "evalue": "invalid syntax (<ipython-input-229-93cfa3ff815e>, line 1)",
          "traceback": [
            "\u001b[0;31m---------------------------------------------------------------------------\u001b[0m",
            "\u001b[0;31mSyntaxError\u001b[0m                               Traceback (most recent call last)",
            "\u001b[0;32m/usr/local/lib/python3.10/dist-packages/IPython/core/compilerop.py\u001b[0m in \u001b[0;36mast_parse\u001b[0;34m(self, source, filename, symbol)\u001b[0m\n\u001b[1;32m     99\u001b[0m         \u001b[0mArguments\u001b[0m \u001b[0mare\u001b[0m \u001b[0mexactly\u001b[0m \u001b[0mthe\u001b[0m \u001b[0msame\u001b[0m \u001b[0;32mas\u001b[0m \u001b[0mast\u001b[0m\u001b[0;34m.\u001b[0m\u001b[0mparse\u001b[0m \u001b[0;34m(\u001b[0m\u001b[0;32min\u001b[0m \u001b[0mthe\u001b[0m \u001b[0mstandard\u001b[0m \u001b[0mlibrary\u001b[0m\u001b[0;34m)\u001b[0m\u001b[0;34m,\u001b[0m\u001b[0;34m\u001b[0m\u001b[0;34m\u001b[0m\u001b[0m\n\u001b[1;32m    100\u001b[0m         and are passed to the built-in compile function.\"\"\"\n\u001b[0;32m--> 101\u001b[0;31m         \u001b[0;32mreturn\u001b[0m \u001b[0mcompile\u001b[0m\u001b[0;34m(\u001b[0m\u001b[0msource\u001b[0m\u001b[0;34m,\u001b[0m \u001b[0mfilename\u001b[0m\u001b[0;34m,\u001b[0m \u001b[0msymbol\u001b[0m\u001b[0;34m,\u001b[0m \u001b[0mself\u001b[0m\u001b[0;34m.\u001b[0m\u001b[0mflags\u001b[0m \u001b[0;34m|\u001b[0m \u001b[0mPyCF_ONLY_AST\u001b[0m\u001b[0;34m,\u001b[0m \u001b[0;36m1\u001b[0m\u001b[0;34m)\u001b[0m\u001b[0;34m\u001b[0m\u001b[0;34m\u001b[0m\u001b[0m\n\u001b[0m\u001b[1;32m    102\u001b[0m \u001b[0;34m\u001b[0m\u001b[0m\n\u001b[1;32m    103\u001b[0m     \u001b[0;32mdef\u001b[0m \u001b[0mreset_compiler_flags\u001b[0m\u001b[0;34m(\u001b[0m\u001b[0mself\u001b[0m\u001b[0;34m)\u001b[0m\u001b[0;34m:\u001b[0m\u001b[0;34m\u001b[0m\u001b[0;34m\u001b[0m\u001b[0m\n",
            "\u001b[0;31mSyntaxError\u001b[0m: invalid syntax (<ipython-input-229-93cfa3ff815e>, line 1)"
          ]
        }
      ]
    },
    {
      "cell_type": "code",
      "source": [
        "pip install plotly\n"
      ],
      "metadata": {
        "colab": {
          "base_uri": "https://localhost:8080/"
        },
        "id": "5AQaRDRUlV3D",
        "outputId": "2c28be91-0111-465a-bc05-60bf3992e09c"
      },
      "execution_count": 188,
      "outputs": [
        {
          "output_type": "stream",
          "name": "stdout",
          "text": [
            "Requirement already satisfied: plotly in /usr/local/lib/python3.10/dist-packages (5.15.0)\n",
            "Requirement already satisfied: tenacity>=6.2.0 in /usr/local/lib/python3.10/dist-packages (from plotly) (8.2.3)\n",
            "Requirement already satisfied: packaging in /usr/local/lib/python3.10/dist-packages (from plotly) (24.0)\n"
          ]
        }
      ]
    },
    {
      "cell_type": "code",
      "source": [
        "import numpy as np\n",
        "import matplotlib.pyplot as plt\n",
        "import seaborn as sns\n",
        "from scipy import stats\n",
        "from sklearn.model_selection import train_test_split\n",
        "from sklearn.ensemble import RandomForestClassifier\n",
        "from sklearn.metrics import accuracy_score"
      ],
      "metadata": {
        "id": "rPhM7O6eeRV1"
      },
      "execution_count": 178,
      "outputs": []
    },
    {
      "cell_type": "code",
      "source": [
        "\n",
        "# Data processing\n",
        "ireland_processed_pandas = ireland_pivot.mean(axis=1)\n",
        "ireland_processed_numpy = np.mean(ireland_pivot.values, axis=1)\n",
        "\n",
        "poland_processed_pandas = poland.mean(axis=1)\n",
        "poland_processed_numpy = np.mean(poland.values, axis=1)\n",
        "\n",
        "# Data aggregation\n",
        "ireland_aggregated_pandas = ireland_pivot.sum()\n",
        "ireland_aggregated_numpy = np.sum(ireland_pivot.values, axis=0)\n",
        "\n",
        "poland_aggregated_pandas = poland.sum()\n",
        "poland_aggregated_numpy = np.sum(poland.values, axis=0)\n",
        "\n",
        "# Print results\n",
        "print(\"Ireland Dataset - Data Processing:\")\n",
        "print(\"Using Pandas:\", ireland_processed_pandas)\n",
        "print(\"Using NumPy:\", ireland_processed_numpy)\n",
        "print(\"\\nPoland Dataset - Data Processing:\")\n",
        "print(\"Using Pandas:\", poland_processed_pandas)\n",
        "print(\"Using NumPy:\", poland_processed_numpy)\n",
        "print(\"\\nIreland Dataset - Data Aggregation:\")\n",
        "print(\"Using Pandas:\", ireland_aggregated_pandas)\n",
        "print(\"Using NumPy:\", ireland_aggregated_numpy)\n",
        "print(\"\\nPoland Dataset - Data Aggregation:\")\n",
        "print(\"Using Pandas:\", poland_aggregated_pandas)\n",
        "print(\"Using NumPy:\", poland_aggregated_numpy)\n",
        "\n",
        "# Justifications:\n",
        "# Data processing:\n",
        "# - The mean function is applied along the rows of the Ireland pivot table using both Pandas and NumPy to calculate\n",
        "#   the average value for each row, representing data processing steps.\n",
        "# - Using Pandas provides a convenient and high-level interface for data manipulation, making it easy to compute\n",
        "#   row-wise averages.\n",
        "# - NumPy is used for its efficient array operations, providing faster computation compared to Pandas for large datasets\n",
        "#   due to its low-level implementation.\n",
        "# - This helps to summarize the monthly data into a single value, potentially representing an average monthly value\n",
        "#   for each observation.\n",
        "\n",
        "# Data aggregation:\n",
        "# - The sum function is applied to the Ireland pivot table to calculate the total value for each column (i.e., each month).\n",
        "# - Using Pandas allows for a straightforward and intuitive way to perform column-wise aggregation operations.\n",
        "# - NumPy is leveraged for its efficient array-based computations, offering optimized performance for numerical operations.\n",
        "# - This helps to aggregate the monthly data into yearly totals, providing a broader perspective on the data.\n",
        "# - Similar operations are performed for the Poland dataset."
      ],
      "metadata": {
        "colab": {
          "base_uri": "https://localhost:8080/"
        },
        "id": "jK9CCUkjiOAP",
        "outputId": "d0e1ef59-cc5b-40bc-8cc3-f80bdc01a30c"
      },
      "execution_count": 186,
      "outputs": [
        {
          "output_type": "stream",
          "name": "stdout",
          "text": [
            "Ireland Dataset - Data Processing:\n",
            "Using Pandas: Year\n",
            "2018    3.486414e+06\n",
            "2019    4.028936e+06\n",
            "2020    1.598005e+06\n",
            "2021    1.623443e+06\n",
            "dtype: float64\n",
            "Using NumPy: [3486414.08333333 4028935.91666667 1598004.66666667 1623443.25      ]\n",
            "\n",
            "Poland Dataset - Data Processing:\n",
            "Using Pandas: year\n",
            "2018    2.585750e+06\n",
            "2019    2.799000e+06\n",
            "2020    1.745000e+06\n",
            "2021    2.042083e+06\n",
            "dtype: float64\n",
            "Using NumPy: [2585750.         2799000.         1745000.         2042083.33333333]\n",
            "\n",
            "Ireland Dataset - Data Aggregation:\n",
            "Using Pandas: April         8345878\n",
            "August       10497519\n",
            "December     11907851\n",
            "February     11259870\n",
            "January      11305013\n",
            "July         10736138\n",
            "June          9603999\n",
            "March         9954371\n",
            "May           9361291\n",
            "November     12184837\n",
            "October      12273432\n",
            "September    11411376\n",
            "dtype: int64\n",
            "Using NumPy: [ 8345878 10497519 11907851 11259870 11305013 10736138  9603999  9954371\n",
            "  9361291 12184837 12273432 11411376]\n",
            "\n",
            "Poland Dataset - Data Aggregation:\n",
            "Using Pandas: january       9369000\n",
            "february      9014000\n",
            "march         8552000\n",
            "april         7185000\n",
            "may           8395000\n",
            "june          8897000\n",
            "july          9689000\n",
            "august        9966000\n",
            "september    10123000\n",
            "october      10517000\n",
            "november      9414000\n",
            "december      8941000\n",
            "dtype: int64\n",
            "Using NumPy: [ 9369000  9014000  8552000  7185000  8395000  8897000  9689000  9966000\n",
            " 10123000 10517000  9414000  8941000]\n"
          ]
        }
      ]
    },
    {
      "cell_type": "code",
      "source": [],
      "metadata": {
        "id": "YYUk_jJai2Lt"
      },
      "execution_count": 189,
      "outputs": []
    },
    {
      "cell_type": "code",
      "source": [
        "import plotly.express as px\n",
        "\n",
        "\n",
        "# Visualizing Ireland dataset with correct order of months\n",
        "fig_ireland = px.bar(ireland_pivot.reset_index(), x='Year', y=ireland_pivot.columns,\n",
        "                     title='Monthly Values in Ireland (2018-2021)',\n",
        "                     labels={'value': 'Value', 'variable': 'Month'},\n",
        "                     barmode='group', category_orders={'variable': months_order})\n",
        "fig_ireland.show()\n",
        "\n",
        "\n",
        "# Visualizing Poland dataset\n",
        "fig_poland = px.bar(poland.reset_index(), x='year', y=poland.columns,\n",
        "                    title='Monthly Values in Poland (2018-2021)',\n",
        "                    labels={'value': 'Value', 'variable': 'Month'},\n",
        "                    barmode='group')\n",
        "fig_poland.show()\n",
        "\n",
        "# Justifications:\n",
        "# Plotly Express (px): Offers a high-level interface for creating interactive visualizations, making it\n",
        "# easy to generate complex plots with minimal code and effort.\n"
      ],
      "metadata": {
        "colab": {
          "base_uri": "https://localhost:8080/",
          "height": 1000
        },
        "id": "l34j7Q42kmCS",
        "outputId": "a7830660-7fbb-46c6-ac57-e118decbfff7"
      },
      "execution_count": 194,
      "outputs": [
        {
          "output_type": "display_data",
          "data": {
            "text/html": [
              "<html>\n",
              "<head><meta charset=\"utf-8\" /></head>\n",
              "<body>\n",
              "    <div>            <script src=\"https://cdnjs.cloudflare.com/ajax/libs/mathjax/2.7.5/MathJax.js?config=TeX-AMS-MML_SVG\"></script><script type=\"text/javascript\">if (window.MathJax && window.MathJax.Hub && window.MathJax.Hub.Config) {window.MathJax.Hub.Config({SVG: {font: \"STIX-Web\"}});}</script>                <script type=\"text/javascript\">window.PlotlyConfig = {MathJaxConfig: 'local'};</script>\n",
              "        <script charset=\"utf-8\" src=\"https://cdn.plot.ly/plotly-2.24.1.min.js\"></script>                <div id=\"8999e611-8e0c-4ee4-ac3a-9e86441a6b21\" class=\"plotly-graph-div\" style=\"height:525px; width:100%;\"></div>            <script type=\"text/javascript\">                                    window.PLOTLYENV=window.PLOTLYENV || {};                                    if (document.getElementById(\"8999e611-8e0c-4ee4-ac3a-9e86441a6b21\")) {                    Plotly.newPlot(                        \"8999e611-8e0c-4ee4-ac3a-9e86441a6b21\",                        [{\"alignmentgroup\":\"True\",\"hovertemplate\":\"Month=January\\u003cbr\\u003eYear=%{x}\\u003cbr\\u003eValue=%{y}\\u003cextra\\u003e\\u003c\\u002fextra\\u003e\",\"legendgroup\":\"January\",\"marker\":{\"color\":\"#636efa\",\"pattern\":{\"shape\":\"\"}},\"name\":\"January\",\"offsetgroup\":\"January\",\"orientation\":\"v\",\"showlegend\":true,\"textposition\":\"auto\",\"x\":[2018,2019,2020,2021],\"xaxis\":\"x\",\"y\":[3218649,3658484,3799176,628704],\"yaxis\":\"y\",\"type\":\"bar\"},{\"alignmentgroup\":\"True\",\"hovertemplate\":\"Month=February\\u003cbr\\u003eYear=%{x}\\u003cbr\\u003eValue=%{y}\\u003cextra\\u003e\\u003c\\u002fextra\\u003e\",\"legendgroup\":\"February\",\"marker\":{\"color\":\"#EF553B\",\"pattern\":{\"shape\":\"\"}},\"name\":\"February\",\"offsetgroup\":\"February\",\"orientation\":\"v\",\"showlegend\":true,\"textposition\":\"auto\",\"x\":[2018,2019,2020,2021],\"xaxis\":\"x\",\"y\":[3118289,3727609,3770492,643480],\"yaxis\":\"y\",\"type\":\"bar\"},{\"alignmentgroup\":\"True\",\"hovertemplate\":\"Month=March\\u003cbr\\u003eYear=%{x}\\u003cbr\\u003eValue=%{y}\\u003cextra\\u003e\\u003c\\u002fextra\\u003e\",\"legendgroup\":\"March\",\"marker\":{\"color\":\"#00cc96\",\"pattern\":{\"shape\":\"\"}},\"name\":\"March\",\"offsetgroup\":\"March\",\"orientation\":\"v\",\"showlegend\":true,\"textposition\":\"auto\",\"x\":[2018,2019,2020,2021],\"xaxis\":\"x\",\"y\":[3097570,4069124,1950743,836934],\"yaxis\":\"y\",\"type\":\"bar\"},{\"alignmentgroup\":\"True\",\"hovertemplate\":\"Month=April\\u003cbr\\u003eYear=%{x}\\u003cbr\\u003eValue=%{y}\\u003cextra\\u003e\\u003c\\u002fextra\\u003e\",\"legendgroup\":\"April\",\"marker\":{\"color\":\"#ab63fa\",\"pattern\":{\"shape\":\"\"}},\"name\":\"April\",\"offsetgroup\":\"April\",\"orientation\":\"v\",\"showlegend\":true,\"textposition\":\"auto\",\"x\":[2018,2019,2020,2021],\"xaxis\":\"x\",\"y\":[3350056,3826763,228633,940426],\"yaxis\":\"y\",\"type\":\"bar\"},{\"alignmentgroup\":\"True\",\"hovertemplate\":\"Month=May\\u003cbr\\u003eYear=%{x}\\u003cbr\\u003eValue=%{y}\\u003cextra\\u003e\\u003c\\u002fextra\\u003e\",\"legendgroup\":\"May\",\"marker\":{\"color\":\"#FFA15A\",\"pattern\":{\"shape\":\"\"}},\"name\":\"May\",\"offsetgroup\":\"May\",\"orientation\":\"v\",\"showlegend\":true,\"textposition\":\"auto\",\"x\":[2018,2019,2020,2021],\"xaxis\":\"x\",\"y\":[3622338,4003472,368914,1366567],\"yaxis\":\"y\",\"type\":\"bar\"},{\"alignmentgroup\":\"True\",\"hovertemplate\":\"Month=June\\u003cbr\\u003eYear=%{x}\\u003cbr\\u003eValue=%{y}\\u003cextra\\u003e\\u003c\\u002fextra\\u003e\",\"legendgroup\":\"June\",\"marker\":{\"color\":\"#19d3f3\",\"pattern\":{\"shape\":\"\"}},\"name\":\"June\",\"offsetgroup\":\"June\",\"orientation\":\"v\",\"showlegend\":true,\"textposition\":\"auto\",\"x\":[2018,2019,2020,2021],\"xaxis\":\"x\",\"y\":[3378751,3750724,762376,1712148],\"yaxis\":\"y\",\"type\":\"bar\"},{\"alignmentgroup\":\"True\",\"hovertemplate\":\"Month=July\\u003cbr\\u003eYear=%{x}\\u003cbr\\u003eValue=%{y}\\u003cextra\\u003e\\u003c\\u002fextra\\u003e\",\"legendgroup\":\"July\",\"marker\":{\"color\":\"#FF6692\",\"pattern\":{\"shape\":\"\"}},\"name\":\"July\",\"offsetgroup\":\"July\",\"orientation\":\"v\",\"showlegend\":true,\"textposition\":\"auto\",\"x\":[2018,2019,2020,2021],\"xaxis\":\"x\",\"y\":[3490513,4130610,1293479,1821536],\"yaxis\":\"y\",\"type\":\"bar\"},{\"alignmentgroup\":\"True\",\"hovertemplate\":\"Month=August\\u003cbr\\u003eYear=%{x}\\u003cbr\\u003eValue=%{y}\\u003cextra\\u003e\\u003c\\u002fextra\\u003e\",\"legendgroup\":\"August\",\"marker\":{\"color\":\"#B6E880\",\"pattern\":{\"shape\":\"\"}},\"name\":\"August\",\"offsetgroup\":\"August\",\"orientation\":\"v\",\"showlegend\":true,\"textposition\":\"auto\",\"x\":[2018,2019,2020,2021],\"xaxis\":\"x\",\"y\":[3363274,3781395,1469350,1883500],\"yaxis\":\"y\",\"type\":\"bar\"},{\"alignmentgroup\":\"True\",\"hovertemplate\":\"Month=September\\u003cbr\\u003eYear=%{x}\\u003cbr\\u003eValue=%{y}\\u003cextra\\u003e\\u003c\\u002fextra\\u003e\",\"legendgroup\":\"September\",\"marker\":{\"color\":\"#FF97FF\",\"pattern\":{\"shape\":\"\"}},\"name\":\"September\",\"offsetgroup\":\"September\",\"orientation\":\"v\",\"showlegend\":true,\"textposition\":\"auto\",\"x\":[2018,2019,2020,2021],\"xaxis\":\"x\",\"y\":[3487373,4166802,1534789,2222412],\"yaxis\":\"y\",\"type\":\"bar\"},{\"alignmentgroup\":\"True\",\"hovertemplate\":\"Month=October\\u003cbr\\u003eYear=%{x}\\u003cbr\\u003eValue=%{y}\\u003cextra\\u003e\\u003c\\u002fextra\\u003e\",\"legendgroup\":\"October\",\"marker\":{\"color\":\"#FECB52\",\"pattern\":{\"shape\":\"\"}},\"name\":\"October\",\"offsetgroup\":\"October\",\"orientation\":\"v\",\"showlegend\":true,\"textposition\":\"auto\",\"x\":[2018,2019,2020,2021],\"xaxis\":\"x\",\"y\":[3919977,4502319,1325561,2525575],\"yaxis\":\"y\",\"type\":\"bar\"},{\"alignmentgroup\":\"True\",\"hovertemplate\":\"Month=November\\u003cbr\\u003eYear=%{x}\\u003cbr\\u003eValue=%{y}\\u003cextra\\u003e\\u003c\\u002fextra\\u003e\",\"legendgroup\":\"November\",\"marker\":{\"color\":\"#636efa\",\"pattern\":{\"shape\":\"\"}},\"name\":\"November\",\"offsetgroup\":\"November\",\"orientation\":\"v\",\"showlegend\":true,\"textposition\":\"auto\",\"x\":[2018,2019,2020,2021],\"xaxis\":\"x\",\"y\":[4017567,4496717,1024219,2646334],\"yaxis\":\"y\",\"type\":\"bar\"},{\"alignmentgroup\":\"True\",\"hovertemplate\":\"Month=December\\u003cbr\\u003eYear=%{x}\\u003cbr\\u003eValue=%{y}\\u003cextra\\u003e\\u003c\\u002fextra\\u003e\",\"legendgroup\":\"December\",\"marker\":{\"color\":\"#EF553B\",\"pattern\":{\"shape\":\"\"}},\"name\":\"December\",\"offsetgroup\":\"December\",\"orientation\":\"v\",\"showlegend\":true,\"textposition\":\"auto\",\"x\":[2018,2019,2020,2021],\"xaxis\":\"x\",\"y\":[3772612,4233212,1648324,2253703],\"yaxis\":\"y\",\"type\":\"bar\"}],                        {\"template\":{\"data\":{\"histogram2dcontour\":[{\"type\":\"histogram2dcontour\",\"colorbar\":{\"outlinewidth\":0,\"ticks\":\"\"},\"colorscale\":[[0.0,\"#0d0887\"],[0.1111111111111111,\"#46039f\"],[0.2222222222222222,\"#7201a8\"],[0.3333333333333333,\"#9c179e\"],[0.4444444444444444,\"#bd3786\"],[0.5555555555555556,\"#d8576b\"],[0.6666666666666666,\"#ed7953\"],[0.7777777777777778,\"#fb9f3a\"],[0.8888888888888888,\"#fdca26\"],[1.0,\"#f0f921\"]]}],\"choropleth\":[{\"type\":\"choropleth\",\"colorbar\":{\"outlinewidth\":0,\"ticks\":\"\"}}],\"histogram2d\":[{\"type\":\"histogram2d\",\"colorbar\":{\"outlinewidth\":0,\"ticks\":\"\"},\"colorscale\":[[0.0,\"#0d0887\"],[0.1111111111111111,\"#46039f\"],[0.2222222222222222,\"#7201a8\"],[0.3333333333333333,\"#9c179e\"],[0.4444444444444444,\"#bd3786\"],[0.5555555555555556,\"#d8576b\"],[0.6666666666666666,\"#ed7953\"],[0.7777777777777778,\"#fb9f3a\"],[0.8888888888888888,\"#fdca26\"],[1.0,\"#f0f921\"]]}],\"heatmap\":[{\"type\":\"heatmap\",\"colorbar\":{\"outlinewidth\":0,\"ticks\":\"\"},\"colorscale\":[[0.0,\"#0d0887\"],[0.1111111111111111,\"#46039f\"],[0.2222222222222222,\"#7201a8\"],[0.3333333333333333,\"#9c179e\"],[0.4444444444444444,\"#bd3786\"],[0.5555555555555556,\"#d8576b\"],[0.6666666666666666,\"#ed7953\"],[0.7777777777777778,\"#fb9f3a\"],[0.8888888888888888,\"#fdca26\"],[1.0,\"#f0f921\"]]}],\"heatmapgl\":[{\"type\":\"heatmapgl\",\"colorbar\":{\"outlinewidth\":0,\"ticks\":\"\"},\"colorscale\":[[0.0,\"#0d0887\"],[0.1111111111111111,\"#46039f\"],[0.2222222222222222,\"#7201a8\"],[0.3333333333333333,\"#9c179e\"],[0.4444444444444444,\"#bd3786\"],[0.5555555555555556,\"#d8576b\"],[0.6666666666666666,\"#ed7953\"],[0.7777777777777778,\"#fb9f3a\"],[0.8888888888888888,\"#fdca26\"],[1.0,\"#f0f921\"]]}],\"contourcarpet\":[{\"type\":\"contourcarpet\",\"colorbar\":{\"outlinewidth\":0,\"ticks\":\"\"}}],\"contour\":[{\"type\":\"contour\",\"colorbar\":{\"outlinewidth\":0,\"ticks\":\"\"},\"colorscale\":[[0.0,\"#0d0887\"],[0.1111111111111111,\"#46039f\"],[0.2222222222222222,\"#7201a8\"],[0.3333333333333333,\"#9c179e\"],[0.4444444444444444,\"#bd3786\"],[0.5555555555555556,\"#d8576b\"],[0.6666666666666666,\"#ed7953\"],[0.7777777777777778,\"#fb9f3a\"],[0.8888888888888888,\"#fdca26\"],[1.0,\"#f0f921\"]]}],\"surface\":[{\"type\":\"surface\",\"colorbar\":{\"outlinewidth\":0,\"ticks\":\"\"},\"colorscale\":[[0.0,\"#0d0887\"],[0.1111111111111111,\"#46039f\"],[0.2222222222222222,\"#7201a8\"],[0.3333333333333333,\"#9c179e\"],[0.4444444444444444,\"#bd3786\"],[0.5555555555555556,\"#d8576b\"],[0.6666666666666666,\"#ed7953\"],[0.7777777777777778,\"#fb9f3a\"],[0.8888888888888888,\"#fdca26\"],[1.0,\"#f0f921\"]]}],\"mesh3d\":[{\"type\":\"mesh3d\",\"colorbar\":{\"outlinewidth\":0,\"ticks\":\"\"}}],\"scatter\":[{\"fillpattern\":{\"fillmode\":\"overlay\",\"size\":10,\"solidity\":0.2},\"type\":\"scatter\"}],\"parcoords\":[{\"type\":\"parcoords\",\"line\":{\"colorbar\":{\"outlinewidth\":0,\"ticks\":\"\"}}}],\"scatterpolargl\":[{\"type\":\"scatterpolargl\",\"marker\":{\"colorbar\":{\"outlinewidth\":0,\"ticks\":\"\"}}}],\"bar\":[{\"error_x\":{\"color\":\"#2a3f5f\"},\"error_y\":{\"color\":\"#2a3f5f\"},\"marker\":{\"line\":{\"color\":\"#E5ECF6\",\"width\":0.5},\"pattern\":{\"fillmode\":\"overlay\",\"size\":10,\"solidity\":0.2}},\"type\":\"bar\"}],\"scattergeo\":[{\"type\":\"scattergeo\",\"marker\":{\"colorbar\":{\"outlinewidth\":0,\"ticks\":\"\"}}}],\"scatterpolar\":[{\"type\":\"scatterpolar\",\"marker\":{\"colorbar\":{\"outlinewidth\":0,\"ticks\":\"\"}}}],\"histogram\":[{\"marker\":{\"pattern\":{\"fillmode\":\"overlay\",\"size\":10,\"solidity\":0.2}},\"type\":\"histogram\"}],\"scattergl\":[{\"type\":\"scattergl\",\"marker\":{\"colorbar\":{\"outlinewidth\":0,\"ticks\":\"\"}}}],\"scatter3d\":[{\"type\":\"scatter3d\",\"line\":{\"colorbar\":{\"outlinewidth\":0,\"ticks\":\"\"}},\"marker\":{\"colorbar\":{\"outlinewidth\":0,\"ticks\":\"\"}}}],\"scattermapbox\":[{\"type\":\"scattermapbox\",\"marker\":{\"colorbar\":{\"outlinewidth\":0,\"ticks\":\"\"}}}],\"scatterternary\":[{\"type\":\"scatterternary\",\"marker\":{\"colorbar\":{\"outlinewidth\":0,\"ticks\":\"\"}}}],\"scattercarpet\":[{\"type\":\"scattercarpet\",\"marker\":{\"colorbar\":{\"outlinewidth\":0,\"ticks\":\"\"}}}],\"carpet\":[{\"aaxis\":{\"endlinecolor\":\"#2a3f5f\",\"gridcolor\":\"white\",\"linecolor\":\"white\",\"minorgridcolor\":\"white\",\"startlinecolor\":\"#2a3f5f\"},\"baxis\":{\"endlinecolor\":\"#2a3f5f\",\"gridcolor\":\"white\",\"linecolor\":\"white\",\"minorgridcolor\":\"white\",\"startlinecolor\":\"#2a3f5f\"},\"type\":\"carpet\"}],\"table\":[{\"cells\":{\"fill\":{\"color\":\"#EBF0F8\"},\"line\":{\"color\":\"white\"}},\"header\":{\"fill\":{\"color\":\"#C8D4E3\"},\"line\":{\"color\":\"white\"}},\"type\":\"table\"}],\"barpolar\":[{\"marker\":{\"line\":{\"color\":\"#E5ECF6\",\"width\":0.5},\"pattern\":{\"fillmode\":\"overlay\",\"size\":10,\"solidity\":0.2}},\"type\":\"barpolar\"}],\"pie\":[{\"automargin\":true,\"type\":\"pie\"}]},\"layout\":{\"autotypenumbers\":\"strict\",\"colorway\":[\"#636efa\",\"#EF553B\",\"#00cc96\",\"#ab63fa\",\"#FFA15A\",\"#19d3f3\",\"#FF6692\",\"#B6E880\",\"#FF97FF\",\"#FECB52\"],\"font\":{\"color\":\"#2a3f5f\"},\"hovermode\":\"closest\",\"hoverlabel\":{\"align\":\"left\"},\"paper_bgcolor\":\"white\",\"plot_bgcolor\":\"#E5ECF6\",\"polar\":{\"bgcolor\":\"#E5ECF6\",\"angularaxis\":{\"gridcolor\":\"white\",\"linecolor\":\"white\",\"ticks\":\"\"},\"radialaxis\":{\"gridcolor\":\"white\",\"linecolor\":\"white\",\"ticks\":\"\"}},\"ternary\":{\"bgcolor\":\"#E5ECF6\",\"aaxis\":{\"gridcolor\":\"white\",\"linecolor\":\"white\",\"ticks\":\"\"},\"baxis\":{\"gridcolor\":\"white\",\"linecolor\":\"white\",\"ticks\":\"\"},\"caxis\":{\"gridcolor\":\"white\",\"linecolor\":\"white\",\"ticks\":\"\"}},\"coloraxis\":{\"colorbar\":{\"outlinewidth\":0,\"ticks\":\"\"}},\"colorscale\":{\"sequential\":[[0.0,\"#0d0887\"],[0.1111111111111111,\"#46039f\"],[0.2222222222222222,\"#7201a8\"],[0.3333333333333333,\"#9c179e\"],[0.4444444444444444,\"#bd3786\"],[0.5555555555555556,\"#d8576b\"],[0.6666666666666666,\"#ed7953\"],[0.7777777777777778,\"#fb9f3a\"],[0.8888888888888888,\"#fdca26\"],[1.0,\"#f0f921\"]],\"sequentialminus\":[[0.0,\"#0d0887\"],[0.1111111111111111,\"#46039f\"],[0.2222222222222222,\"#7201a8\"],[0.3333333333333333,\"#9c179e\"],[0.4444444444444444,\"#bd3786\"],[0.5555555555555556,\"#d8576b\"],[0.6666666666666666,\"#ed7953\"],[0.7777777777777778,\"#fb9f3a\"],[0.8888888888888888,\"#fdca26\"],[1.0,\"#f0f921\"]],\"diverging\":[[0,\"#8e0152\"],[0.1,\"#c51b7d\"],[0.2,\"#de77ae\"],[0.3,\"#f1b6da\"],[0.4,\"#fde0ef\"],[0.5,\"#f7f7f7\"],[0.6,\"#e6f5d0\"],[0.7,\"#b8e186\"],[0.8,\"#7fbc41\"],[0.9,\"#4d9221\"],[1,\"#276419\"]]},\"xaxis\":{\"gridcolor\":\"white\",\"linecolor\":\"white\",\"ticks\":\"\",\"title\":{\"standoff\":15},\"zerolinecolor\":\"white\",\"automargin\":true,\"zerolinewidth\":2},\"yaxis\":{\"gridcolor\":\"white\",\"linecolor\":\"white\",\"ticks\":\"\",\"title\":{\"standoff\":15},\"zerolinecolor\":\"white\",\"automargin\":true,\"zerolinewidth\":2},\"scene\":{\"xaxis\":{\"backgroundcolor\":\"#E5ECF6\",\"gridcolor\":\"white\",\"linecolor\":\"white\",\"showbackground\":true,\"ticks\":\"\",\"zerolinecolor\":\"white\",\"gridwidth\":2},\"yaxis\":{\"backgroundcolor\":\"#E5ECF6\",\"gridcolor\":\"white\",\"linecolor\":\"white\",\"showbackground\":true,\"ticks\":\"\",\"zerolinecolor\":\"white\",\"gridwidth\":2},\"zaxis\":{\"backgroundcolor\":\"#E5ECF6\",\"gridcolor\":\"white\",\"linecolor\":\"white\",\"showbackground\":true,\"ticks\":\"\",\"zerolinecolor\":\"white\",\"gridwidth\":2}},\"shapedefaults\":{\"line\":{\"color\":\"#2a3f5f\"}},\"annotationdefaults\":{\"arrowcolor\":\"#2a3f5f\",\"arrowhead\":0,\"arrowwidth\":1},\"geo\":{\"bgcolor\":\"white\",\"landcolor\":\"#E5ECF6\",\"subunitcolor\":\"white\",\"showland\":true,\"showlakes\":true,\"lakecolor\":\"white\"},\"title\":{\"x\":0.05},\"mapbox\":{\"style\":\"light\"}}},\"xaxis\":{\"anchor\":\"y\",\"domain\":[0.0,1.0],\"title\":{\"text\":\"Year\"}},\"yaxis\":{\"anchor\":\"x\",\"domain\":[0.0,1.0],\"title\":{\"text\":\"Value\"}},\"legend\":{\"title\":{\"text\":\"Month\"},\"tracegroupgap\":0},\"title\":{\"text\":\"Monthly Values in Ireland (2018-2021)\"},\"barmode\":\"group\"},                        {\"responsive\": true}                    ).then(function(){\n",
              "                            \n",
              "var gd = document.getElementById('8999e611-8e0c-4ee4-ac3a-9e86441a6b21');\n",
              "var x = new MutationObserver(function (mutations, observer) {{\n",
              "        var display = window.getComputedStyle(gd).display;\n",
              "        if (!display || display === 'none') {{\n",
              "            console.log([gd, 'removed!']);\n",
              "            Plotly.purge(gd);\n",
              "            observer.disconnect();\n",
              "        }}\n",
              "}});\n",
              "\n",
              "// Listen for the removal of the full notebook cells\n",
              "var notebookContainer = gd.closest('#notebook-container');\n",
              "if (notebookContainer) {{\n",
              "    x.observe(notebookContainer, {childList: true});\n",
              "}}\n",
              "\n",
              "// Listen for the clearing of the current output cell\n",
              "var outputEl = gd.closest('.output');\n",
              "if (outputEl) {{\n",
              "    x.observe(outputEl, {childList: true});\n",
              "}}\n",
              "\n",
              "                        })                };                            </script>        </div>\n",
              "</body>\n",
              "</html>"
            ]
          },
          "metadata": {}
        },
        {
          "output_type": "display_data",
          "data": {
            "text/html": [
              "<html>\n",
              "<head><meta charset=\"utf-8\" /></head>\n",
              "<body>\n",
              "    <div>            <script src=\"https://cdnjs.cloudflare.com/ajax/libs/mathjax/2.7.5/MathJax.js?config=TeX-AMS-MML_SVG\"></script><script type=\"text/javascript\">if (window.MathJax && window.MathJax.Hub && window.MathJax.Hub.Config) {window.MathJax.Hub.Config({SVG: {font: \"STIX-Web\"}});}</script>                <script type=\"text/javascript\">window.PlotlyConfig = {MathJaxConfig: 'local'};</script>\n",
              "        <script charset=\"utf-8\" src=\"https://cdn.plot.ly/plotly-2.24.1.min.js\"></script>                <div id=\"723b8f15-236f-47d5-a607-7035947b1eb2\" class=\"plotly-graph-div\" style=\"height:525px; width:100%;\"></div>            <script type=\"text/javascript\">                                    window.PLOTLYENV=window.PLOTLYENV || {};                                    if (document.getElementById(\"723b8f15-236f-47d5-a607-7035947b1eb2\")) {                    Plotly.newPlot(                        \"723b8f15-236f-47d5-a607-7035947b1eb2\",                        [{\"alignmentgroup\":\"True\",\"hovertemplate\":\"Month=january\\u003cbr\\u003eyear=%{x}\\u003cbr\\u003eValue=%{y}\\u003cextra\\u003e\\u003c\\u002fextra\\u003e\",\"legendgroup\":\"january\",\"marker\":{\"color\":\"#636efa\",\"pattern\":{\"shape\":\"\"}},\"name\":\"january\",\"offsetgroup\":\"january\",\"orientation\":\"v\",\"showlegend\":true,\"textposition\":\"auto\",\"x\":[2018,2019,2020,2021],\"xaxis\":\"x\",\"y\":[2506000,2651000,2853000,1359000],\"yaxis\":\"y\",\"type\":\"bar\"},{\"alignmentgroup\":\"True\",\"hovertemplate\":\"Month=february\\u003cbr\\u003eyear=%{x}\\u003cbr\\u003eValue=%{y}\\u003cextra\\u003e\\u003c\\u002fextra\\u003e\",\"legendgroup\":\"february\",\"marker\":{\"color\":\"#EF553B\",\"pattern\":{\"shape\":\"\"}},\"name\":\"february\",\"offsetgroup\":\"february\",\"orientation\":\"v\",\"showlegend\":true,\"textposition\":\"auto\",\"x\":[2018,2019,2020,2021],\"xaxis\":\"x\",\"y\":[2315000,2520000,2754000,1425000],\"yaxis\":\"y\",\"type\":\"bar\"},{\"alignmentgroup\":\"True\",\"hovertemplate\":\"Month=march\\u003cbr\\u003eyear=%{x}\\u003cbr\\u003eValue=%{y}\\u003cextra\\u003e\\u003c\\u002fextra\\u003e\",\"legendgroup\":\"march\",\"marker\":{\"color\":\"#00cc96\",\"pattern\":{\"shape\":\"\"}},\"name\":\"march\",\"offsetgroup\":\"march\",\"orientation\":\"v\",\"showlegend\":true,\"textposition\":\"auto\",\"x\":[2018,2019,2020,2021],\"xaxis\":\"x\",\"y\":[2439000,2815000,1775000,1523000],\"yaxis\":\"y\",\"type\":\"bar\"},{\"alignmentgroup\":\"True\",\"hovertemplate\":\"Month=april\\u003cbr\\u003eyear=%{x}\\u003cbr\\u003eValue=%{y}\\u003cextra\\u003e\\u003c\\u002fextra\\u003e\",\"legendgroup\":\"april\",\"marker\":{\"color\":\"#ab63fa\",\"pattern\":{\"shape\":\"\"}},\"name\":\"april\",\"offsetgroup\":\"april\",\"orientation\":\"v\",\"showlegend\":true,\"textposition\":\"auto\",\"x\":[2018,2019,2020,2021],\"xaxis\":\"x\",\"y\":[2526000,2652000,610000,1397000],\"yaxis\":\"y\",\"type\":\"bar\"},{\"alignmentgroup\":\"True\",\"hovertemplate\":\"Month=may\\u003cbr\\u003eyear=%{x}\\u003cbr\\u003eValue=%{y}\\u003cextra\\u003e\\u003c\\u002fextra\\u003e\",\"legendgroup\":\"may\",\"marker\":{\"color\":\"#FFA15A\",\"pattern\":{\"shape\":\"\"}},\"name\":\"may\",\"offsetgroup\":\"may\",\"orientation\":\"v\",\"showlegend\":true,\"textposition\":\"auto\",\"x\":[2018,2019,2020,2021],\"xaxis\":\"x\",\"y\":[2676000,2846000,980000,1893000],\"yaxis\":\"y\",\"type\":\"bar\"},{\"alignmentgroup\":\"True\",\"hovertemplate\":\"Month=june\\u003cbr\\u003eyear=%{x}\\u003cbr\\u003eValue=%{y}\\u003cextra\\u003e\\u003c\\u002fextra\\u003e\",\"legendgroup\":\"june\",\"marker\":{\"color\":\"#19d3f3\",\"pattern\":{\"shape\":\"\"}},\"name\":\"june\",\"offsetgroup\":\"june\",\"orientation\":\"v\",\"showlegend\":true,\"textposition\":\"auto\",\"x\":[2018,2019,2020,2021],\"xaxis\":\"x\",\"y\":[2597000,2735000,1455000,2110000],\"yaxis\":\"y\",\"type\":\"bar\"},{\"alignmentgroup\":\"True\",\"hovertemplate\":\"Month=july\\u003cbr\\u003eyear=%{x}\\u003cbr\\u003eValue=%{y}\\u003cextra\\u003e\\u003c\\u002fextra\\u003e\",\"legendgroup\":\"july\",\"marker\":{\"color\":\"#FF6692\",\"pattern\":{\"shape\":\"\"}},\"name\":\"july\",\"offsetgroup\":\"july\",\"orientation\":\"v\",\"showlegend\":true,\"textposition\":\"auto\",\"x\":[2018,2019,2020,2021],\"xaxis\":\"x\",\"y\":[2638000,2810000,1889000,2352000],\"yaxis\":\"y\",\"type\":\"bar\"},{\"alignmentgroup\":\"True\",\"hovertemplate\":\"Month=august\\u003cbr\\u003eyear=%{x}\\u003cbr\\u003eValue=%{y}\\u003cextra\\u003e\\u003c\\u002fextra\\u003e\",\"legendgroup\":\"august\",\"marker\":{\"color\":\"#B6E880\",\"pattern\":{\"shape\":\"\"}},\"name\":\"august\",\"offsetgroup\":\"august\",\"orientation\":\"v\",\"showlegend\":true,\"textposition\":\"auto\",\"x\":[2018,2019,2020,2021],\"xaxis\":\"x\",\"y\":[2631000,2830000,2014000,2491000],\"yaxis\":\"y\",\"type\":\"bar\"},{\"alignmentgroup\":\"True\",\"hovertemplate\":\"Month=september\\u003cbr\\u003eyear=%{x}\\u003cbr\\u003eValue=%{y}\\u003cextra\\u003e\\u003c\\u002fextra\\u003e\",\"legendgroup\":\"september\",\"marker\":{\"color\":\"#FF97FF\",\"pattern\":{\"shape\":\"\"}},\"name\":\"september\",\"offsetgroup\":\"september\",\"orientation\":\"v\",\"showlegend\":true,\"textposition\":\"auto\",\"x\":[2018,2019,2020,2021],\"xaxis\":\"x\",\"y\":[2591000,2882000,2161000,2489000],\"yaxis\":\"y\",\"type\":\"bar\"},{\"alignmentgroup\":\"True\",\"hovertemplate\":\"Month=october\\u003cbr\\u003eyear=%{x}\\u003cbr\\u003eValue=%{y}\\u003cextra\\u003e\\u003c\\u002fextra\\u003e\",\"legendgroup\":\"october\",\"marker\":{\"color\":\"#FECB52\",\"pattern\":{\"shape\":\"\"}},\"name\":\"october\",\"offsetgroup\":\"october\",\"orientation\":\"v\",\"showlegend\":true,\"textposition\":\"auto\",\"x\":[2018,2019,2020,2021],\"xaxis\":\"x\",\"y\":[2847000,3119000,1854000,2697000],\"yaxis\":\"y\",\"type\":\"bar\"},{\"alignmentgroup\":\"True\",\"hovertemplate\":\"Month=november\\u003cbr\\u003eyear=%{x}\\u003cbr\\u003eValue=%{y}\\u003cextra\\u003e\\u003c\\u002fextra\\u003e\",\"legendgroup\":\"november\",\"marker\":{\"color\":\"#636efa\",\"pattern\":{\"shape\":\"\"}},\"name\":\"november\",\"offsetgroup\":\"november\",\"orientation\":\"v\",\"showlegend\":true,\"textposition\":\"auto\",\"x\":[2018,2019,2020,2021],\"xaxis\":\"x\",\"y\":[2722000,2939000,1242000,2511000],\"yaxis\":\"y\",\"type\":\"bar\"},{\"alignmentgroup\":\"True\",\"hovertemplate\":\"Month=december\\u003cbr\\u003eyear=%{x}\\u003cbr\\u003eValue=%{y}\\u003cextra\\u003e\\u003c\\u002fextra\\u003e\",\"legendgroup\":\"december\",\"marker\":{\"color\":\"#EF553B\",\"pattern\":{\"shape\":\"\"}},\"name\":\"december\",\"offsetgroup\":\"december\",\"orientation\":\"v\",\"showlegend\":true,\"textposition\":\"auto\",\"x\":[2018,2019,2020,2021],\"xaxis\":\"x\",\"y\":[2541000,2789000,1353000,2258000],\"yaxis\":\"y\",\"type\":\"bar\"}],                        {\"template\":{\"data\":{\"histogram2dcontour\":[{\"type\":\"histogram2dcontour\",\"colorbar\":{\"outlinewidth\":0,\"ticks\":\"\"},\"colorscale\":[[0.0,\"#0d0887\"],[0.1111111111111111,\"#46039f\"],[0.2222222222222222,\"#7201a8\"],[0.3333333333333333,\"#9c179e\"],[0.4444444444444444,\"#bd3786\"],[0.5555555555555556,\"#d8576b\"],[0.6666666666666666,\"#ed7953\"],[0.7777777777777778,\"#fb9f3a\"],[0.8888888888888888,\"#fdca26\"],[1.0,\"#f0f921\"]]}],\"choropleth\":[{\"type\":\"choropleth\",\"colorbar\":{\"outlinewidth\":0,\"ticks\":\"\"}}],\"histogram2d\":[{\"type\":\"histogram2d\",\"colorbar\":{\"outlinewidth\":0,\"ticks\":\"\"},\"colorscale\":[[0.0,\"#0d0887\"],[0.1111111111111111,\"#46039f\"],[0.2222222222222222,\"#7201a8\"],[0.3333333333333333,\"#9c179e\"],[0.4444444444444444,\"#bd3786\"],[0.5555555555555556,\"#d8576b\"],[0.6666666666666666,\"#ed7953\"],[0.7777777777777778,\"#fb9f3a\"],[0.8888888888888888,\"#fdca26\"],[1.0,\"#f0f921\"]]}],\"heatmap\":[{\"type\":\"heatmap\",\"colorbar\":{\"outlinewidth\":0,\"ticks\":\"\"},\"colorscale\":[[0.0,\"#0d0887\"],[0.1111111111111111,\"#46039f\"],[0.2222222222222222,\"#7201a8\"],[0.3333333333333333,\"#9c179e\"],[0.4444444444444444,\"#bd3786\"],[0.5555555555555556,\"#d8576b\"],[0.6666666666666666,\"#ed7953\"],[0.7777777777777778,\"#fb9f3a\"],[0.8888888888888888,\"#fdca26\"],[1.0,\"#f0f921\"]]}],\"heatmapgl\":[{\"type\":\"heatmapgl\",\"colorbar\":{\"outlinewidth\":0,\"ticks\":\"\"},\"colorscale\":[[0.0,\"#0d0887\"],[0.1111111111111111,\"#46039f\"],[0.2222222222222222,\"#7201a8\"],[0.3333333333333333,\"#9c179e\"],[0.4444444444444444,\"#bd3786\"],[0.5555555555555556,\"#d8576b\"],[0.6666666666666666,\"#ed7953\"],[0.7777777777777778,\"#fb9f3a\"],[0.8888888888888888,\"#fdca26\"],[1.0,\"#f0f921\"]]}],\"contourcarpet\":[{\"type\":\"contourcarpet\",\"colorbar\":{\"outlinewidth\":0,\"ticks\":\"\"}}],\"contour\":[{\"type\":\"contour\",\"colorbar\":{\"outlinewidth\":0,\"ticks\":\"\"},\"colorscale\":[[0.0,\"#0d0887\"],[0.1111111111111111,\"#46039f\"],[0.2222222222222222,\"#7201a8\"],[0.3333333333333333,\"#9c179e\"],[0.4444444444444444,\"#bd3786\"],[0.5555555555555556,\"#d8576b\"],[0.6666666666666666,\"#ed7953\"],[0.7777777777777778,\"#fb9f3a\"],[0.8888888888888888,\"#fdca26\"],[1.0,\"#f0f921\"]]}],\"surface\":[{\"type\":\"surface\",\"colorbar\":{\"outlinewidth\":0,\"ticks\":\"\"},\"colorscale\":[[0.0,\"#0d0887\"],[0.1111111111111111,\"#46039f\"],[0.2222222222222222,\"#7201a8\"],[0.3333333333333333,\"#9c179e\"],[0.4444444444444444,\"#bd3786\"],[0.5555555555555556,\"#d8576b\"],[0.6666666666666666,\"#ed7953\"],[0.7777777777777778,\"#fb9f3a\"],[0.8888888888888888,\"#fdca26\"],[1.0,\"#f0f921\"]]}],\"mesh3d\":[{\"type\":\"mesh3d\",\"colorbar\":{\"outlinewidth\":0,\"ticks\":\"\"}}],\"scatter\":[{\"fillpattern\":{\"fillmode\":\"overlay\",\"size\":10,\"solidity\":0.2},\"type\":\"scatter\"}],\"parcoords\":[{\"type\":\"parcoords\",\"line\":{\"colorbar\":{\"outlinewidth\":0,\"ticks\":\"\"}}}],\"scatterpolargl\":[{\"type\":\"scatterpolargl\",\"marker\":{\"colorbar\":{\"outlinewidth\":0,\"ticks\":\"\"}}}],\"bar\":[{\"error_x\":{\"color\":\"#2a3f5f\"},\"error_y\":{\"color\":\"#2a3f5f\"},\"marker\":{\"line\":{\"color\":\"#E5ECF6\",\"width\":0.5},\"pattern\":{\"fillmode\":\"overlay\",\"size\":10,\"solidity\":0.2}},\"type\":\"bar\"}],\"scattergeo\":[{\"type\":\"scattergeo\",\"marker\":{\"colorbar\":{\"outlinewidth\":0,\"ticks\":\"\"}}}],\"scatterpolar\":[{\"type\":\"scatterpolar\",\"marker\":{\"colorbar\":{\"outlinewidth\":0,\"ticks\":\"\"}}}],\"histogram\":[{\"marker\":{\"pattern\":{\"fillmode\":\"overlay\",\"size\":10,\"solidity\":0.2}},\"type\":\"histogram\"}],\"scattergl\":[{\"type\":\"scattergl\",\"marker\":{\"colorbar\":{\"outlinewidth\":0,\"ticks\":\"\"}}}],\"scatter3d\":[{\"type\":\"scatter3d\",\"line\":{\"colorbar\":{\"outlinewidth\":0,\"ticks\":\"\"}},\"marker\":{\"colorbar\":{\"outlinewidth\":0,\"ticks\":\"\"}}}],\"scattermapbox\":[{\"type\":\"scattermapbox\",\"marker\":{\"colorbar\":{\"outlinewidth\":0,\"ticks\":\"\"}}}],\"scatterternary\":[{\"type\":\"scatterternary\",\"marker\":{\"colorbar\":{\"outlinewidth\":0,\"ticks\":\"\"}}}],\"scattercarpet\":[{\"type\":\"scattercarpet\",\"marker\":{\"colorbar\":{\"outlinewidth\":0,\"ticks\":\"\"}}}],\"carpet\":[{\"aaxis\":{\"endlinecolor\":\"#2a3f5f\",\"gridcolor\":\"white\",\"linecolor\":\"white\",\"minorgridcolor\":\"white\",\"startlinecolor\":\"#2a3f5f\"},\"baxis\":{\"endlinecolor\":\"#2a3f5f\",\"gridcolor\":\"white\",\"linecolor\":\"white\",\"minorgridcolor\":\"white\",\"startlinecolor\":\"#2a3f5f\"},\"type\":\"carpet\"}],\"table\":[{\"cells\":{\"fill\":{\"color\":\"#EBF0F8\"},\"line\":{\"color\":\"white\"}},\"header\":{\"fill\":{\"color\":\"#C8D4E3\"},\"line\":{\"color\":\"white\"}},\"type\":\"table\"}],\"barpolar\":[{\"marker\":{\"line\":{\"color\":\"#E5ECF6\",\"width\":0.5},\"pattern\":{\"fillmode\":\"overlay\",\"size\":10,\"solidity\":0.2}},\"type\":\"barpolar\"}],\"pie\":[{\"automargin\":true,\"type\":\"pie\"}]},\"layout\":{\"autotypenumbers\":\"strict\",\"colorway\":[\"#636efa\",\"#EF553B\",\"#00cc96\",\"#ab63fa\",\"#FFA15A\",\"#19d3f3\",\"#FF6692\",\"#B6E880\",\"#FF97FF\",\"#FECB52\"],\"font\":{\"color\":\"#2a3f5f\"},\"hovermode\":\"closest\",\"hoverlabel\":{\"align\":\"left\"},\"paper_bgcolor\":\"white\",\"plot_bgcolor\":\"#E5ECF6\",\"polar\":{\"bgcolor\":\"#E5ECF6\",\"angularaxis\":{\"gridcolor\":\"white\",\"linecolor\":\"white\",\"ticks\":\"\"},\"radialaxis\":{\"gridcolor\":\"white\",\"linecolor\":\"white\",\"ticks\":\"\"}},\"ternary\":{\"bgcolor\":\"#E5ECF6\",\"aaxis\":{\"gridcolor\":\"white\",\"linecolor\":\"white\",\"ticks\":\"\"},\"baxis\":{\"gridcolor\":\"white\",\"linecolor\":\"white\",\"ticks\":\"\"},\"caxis\":{\"gridcolor\":\"white\",\"linecolor\":\"white\",\"ticks\":\"\"}},\"coloraxis\":{\"colorbar\":{\"outlinewidth\":0,\"ticks\":\"\"}},\"colorscale\":{\"sequential\":[[0.0,\"#0d0887\"],[0.1111111111111111,\"#46039f\"],[0.2222222222222222,\"#7201a8\"],[0.3333333333333333,\"#9c179e\"],[0.4444444444444444,\"#bd3786\"],[0.5555555555555556,\"#d8576b\"],[0.6666666666666666,\"#ed7953\"],[0.7777777777777778,\"#fb9f3a\"],[0.8888888888888888,\"#fdca26\"],[1.0,\"#f0f921\"]],\"sequentialminus\":[[0.0,\"#0d0887\"],[0.1111111111111111,\"#46039f\"],[0.2222222222222222,\"#7201a8\"],[0.3333333333333333,\"#9c179e\"],[0.4444444444444444,\"#bd3786\"],[0.5555555555555556,\"#d8576b\"],[0.6666666666666666,\"#ed7953\"],[0.7777777777777778,\"#fb9f3a\"],[0.8888888888888888,\"#fdca26\"],[1.0,\"#f0f921\"]],\"diverging\":[[0,\"#8e0152\"],[0.1,\"#c51b7d\"],[0.2,\"#de77ae\"],[0.3,\"#f1b6da\"],[0.4,\"#fde0ef\"],[0.5,\"#f7f7f7\"],[0.6,\"#e6f5d0\"],[0.7,\"#b8e186\"],[0.8,\"#7fbc41\"],[0.9,\"#4d9221\"],[1,\"#276419\"]]},\"xaxis\":{\"gridcolor\":\"white\",\"linecolor\":\"white\",\"ticks\":\"\",\"title\":{\"standoff\":15},\"zerolinecolor\":\"white\",\"automargin\":true,\"zerolinewidth\":2},\"yaxis\":{\"gridcolor\":\"white\",\"linecolor\":\"white\",\"ticks\":\"\",\"title\":{\"standoff\":15},\"zerolinecolor\":\"white\",\"automargin\":true,\"zerolinewidth\":2},\"scene\":{\"xaxis\":{\"backgroundcolor\":\"#E5ECF6\",\"gridcolor\":\"white\",\"linecolor\":\"white\",\"showbackground\":true,\"ticks\":\"\",\"zerolinecolor\":\"white\",\"gridwidth\":2},\"yaxis\":{\"backgroundcolor\":\"#E5ECF6\",\"gridcolor\":\"white\",\"linecolor\":\"white\",\"showbackground\":true,\"ticks\":\"\",\"zerolinecolor\":\"white\",\"gridwidth\":2},\"zaxis\":{\"backgroundcolor\":\"#E5ECF6\",\"gridcolor\":\"white\",\"linecolor\":\"white\",\"showbackground\":true,\"ticks\":\"\",\"zerolinecolor\":\"white\",\"gridwidth\":2}},\"shapedefaults\":{\"line\":{\"color\":\"#2a3f5f\"}},\"annotationdefaults\":{\"arrowcolor\":\"#2a3f5f\",\"arrowhead\":0,\"arrowwidth\":1},\"geo\":{\"bgcolor\":\"white\",\"landcolor\":\"#E5ECF6\",\"subunitcolor\":\"white\",\"showland\":true,\"showlakes\":true,\"lakecolor\":\"white\"},\"title\":{\"x\":0.05},\"mapbox\":{\"style\":\"light\"}}},\"xaxis\":{\"anchor\":\"y\",\"domain\":[0.0,1.0],\"title\":{\"text\":\"year\"}},\"yaxis\":{\"anchor\":\"x\",\"domain\":[0.0,1.0],\"title\":{\"text\":\"Value\"}},\"legend\":{\"title\":{\"text\":\"Month\"},\"tracegroupgap\":0},\"title\":{\"text\":\"Monthly Values in Poland (2018-2021)\"},\"barmode\":\"group\"},                        {\"responsive\": true}                    ).then(function(){\n",
              "                            \n",
              "var gd = document.getElementById('723b8f15-236f-47d5-a607-7035947b1eb2');\n",
              "var x = new MutationObserver(function (mutations, observer) {{\n",
              "        var display = window.getComputedStyle(gd).display;\n",
              "        if (!display || display === 'none') {{\n",
              "            console.log([gd, 'removed!']);\n",
              "            Plotly.purge(gd);\n",
              "            observer.disconnect();\n",
              "        }}\n",
              "}});\n",
              "\n",
              "// Listen for the removal of the full notebook cells\n",
              "var notebookContainer = gd.closest('#notebook-container');\n",
              "if (notebookContainer) {{\n",
              "    x.observe(notebookContainer, {childList: true});\n",
              "}}\n",
              "\n",
              "// Listen for the clearing of the current output cell\n",
              "var outputEl = gd.closest('.output');\n",
              "if (outputEl) {{\n",
              "    x.observe(outputEl, {childList: true});\n",
              "}}\n",
              "\n",
              "                        })                };                            </script>        </div>\n",
              "</body>\n",
              "</html>"
            ]
          },
          "metadata": {}
        }
      ]
    },
    {
      "cell_type": "code",
      "source": [
        "# Descriptive statistics for Ireland dataset\n",
        "ireland_stats = ireland_pivot.describe()\n",
        "print(\"Descriptive Statistics for Ireland Dataset:\")\n",
        "print(ireland_stats)\n",
        "\n",
        "# Descriptive statistics for Poland dataset\n",
        "poland_stats = poland.describe()\n",
        "print(\"\\nDescriptive Statistics for Poland Dataset:\")\n",
        "print(poland_stats)\n",
        "\n",
        "# Justifications:\n",
        "# - Using the describe() function provides summary statistics for each numerical column in the Ireland dataset.\n",
        "# - This includes count, mean, standard deviation, minimum, quartiles, and maximum values, offering insights\n",
        "#   into the central tendency, dispersion, and distribution of the data.\n",
        "# - Understanding the descriptive statistics helps in identifying outliers, assessing data quality, and gaining\n",
        "#   initial insights into the characteristics of the dataset.\n",
        "# - Similarly, descriptive statistics are calculated for the Poland dataset to provide summary measures of\n",
        "#   central tendency and variability.\n",
        "# - This facilitates comparison between the Ireland and Poland datasets, helping to identify similarities\n",
        "#   and differences in their distributions and characteristics.\n",
        "# - It also assists in understanding the variability and range of values in the dataset, aiding in subsequent\n",
        "#   analysis and interpretation of the data."
      ],
      "metadata": {
        "colab": {
          "base_uri": "https://localhost:8080/"
        },
        "id": "oD7VCliHlZjV",
        "outputId": "e1eb3175-71af-4ce3-a13e-579da7e0ae3f"
      },
      "execution_count": 230,
      "outputs": [
        {
          "output_type": "stream",
          "name": "stdout",
          "text": [
            "Descriptive Statistics for Ireland Dataset:\n",
            "            January      February         March         April           May  \\\n",
            "count  4.000000e+00  4.000000e+00  4.000000e+00  4.000000e+00  4.000000e+00   \n",
            "mean   2.826253e+06  2.814968e+06  2.488593e+06  2.086470e+06  2.340323e+06   \n",
            "std    1.485753e+06  1.477983e+06  1.400737e+06  1.769204e+06  1.755399e+06   \n",
            "min    6.287040e+05  6.434800e+05  8.369340e+05  2.286330e+05  3.689140e+05   \n",
            "25%    2.571163e+06  2.499587e+06  1.672291e+06  7.624778e+05  1.117154e+06   \n",
            "50%    3.438566e+06  3.422949e+06  2.524156e+06  2.145241e+06  2.494452e+06   \n",
            "75%    3.693657e+06  3.738330e+06  3.340458e+06  3.469233e+06  3.717622e+06   \n",
            "max    3.799176e+06  3.770492e+06  4.069124e+06  3.826763e+06  4.003472e+06   \n",
            "\n",
            "               June          July        August     September       October  \\\n",
            "count  4.000000e+00  4.000000e+00  4.000000e+00  4.000000e+00  4.000000e+00   \n",
            "mean   2.401000e+06  2.684034e+06  2.624380e+06  2.852844e+06  3.068358e+06   \n",
            "std    1.406812e+06  1.344190e+06  1.120661e+06  1.192173e+06  1.427522e+06   \n",
            "min    7.623760e+05  1.293479e+06  1.469350e+06  1.534789e+06  1.325561e+06   \n",
            "25%    1.474705e+06  1.689522e+06  1.779962e+06  2.050506e+06  2.225572e+06   \n",
            "50%    2.545450e+06  2.656024e+06  2.623387e+06  2.854892e+06  3.222776e+06   \n",
            "75%    3.471744e+06  3.650537e+06  3.467804e+06  3.657230e+06  4.065562e+06   \n",
            "max    3.750724e+06  4.130610e+06  3.781395e+06  4.166802e+06  4.502319e+06   \n",
            "\n",
            "           November      December  \n",
            "count  4.000000e+00  4.000000e+00  \n",
            "mean   3.046209e+06  2.976963e+06  \n",
            "std    1.559471e+06  1.224691e+06  \n",
            "min    1.024219e+06  1.648324e+06  \n",
            "25%    2.240805e+06  2.102358e+06  \n",
            "50%    3.331950e+06  3.013158e+06  \n",
            "75%    4.137354e+06  3.887762e+06  \n",
            "max    4.496717e+06  4.233212e+06  \n",
            "\n",
            "Descriptive Statistics for Poland Dataset:\n",
            "            january      february         march         april           may  \\\n",
            "count  4.000000e+00  4.000000e+00  4.000000e+00  4.000000e+00  4.000000e+00   \n",
            "mean   2.342250e+06  2.253500e+06  2.138000e+06  1.796250e+06  2.098750e+06   \n",
            "std    6.707674e+05  5.807228e+05  5.941167e+05  9.714993e+05  8.535289e+05   \n",
            "min    1.359000e+06  1.425000e+06  1.523000e+06  6.100000e+05  9.800000e+05   \n",
            "25%    2.219250e+06  2.092500e+06  1.712000e+06  1.200250e+06  1.664750e+06   \n",
            "50%    2.578500e+06  2.417500e+06  2.107000e+06  1.961500e+06  2.284500e+06   \n",
            "75%    2.701500e+06  2.578500e+06  2.533000e+06  2.557500e+06  2.718500e+06   \n",
            "max    2.853000e+06  2.754000e+06  2.815000e+06  2.652000e+06  2.846000e+06   \n",
            "\n",
            "               june          july        august     september       october  \\\n",
            "count  4.000000e+00  4.000000e+00  4.000000e+00  4.000000e+00  4.000000e+00   \n",
            "mean   2.224250e+06  2.422250e+06  2.491500e+06  2.530750e+06  2.629250e+06   \n",
            "std    5.786786e+05  4.025704e+05  3.473946e+05  2.974697e+05  5.455495e+05   \n",
            "min    1.455000e+06  1.889000e+06  2.014000e+06  2.161000e+06  1.854000e+06   \n",
            "25%    1.946250e+06  2.236250e+06  2.371750e+06  2.407000e+06  2.486250e+06   \n",
            "50%    2.353500e+06  2.495000e+06  2.561000e+06  2.540000e+06  2.772000e+06   \n",
            "75%    2.631500e+06  2.681000e+06  2.680750e+06  2.663750e+06  2.915000e+06   \n",
            "max    2.735000e+06  2.810000e+06  2.830000e+06  2.882000e+06  3.119000e+06   \n",
            "\n",
            "           november      december  \n",
            "count  4.000000e+00  4.000000e+00  \n",
            "mean   2.353500e+06  2.235250e+06  \n",
            "std    7.613236e+05  6.268984e+05  \n",
            "min    1.242000e+06  1.353000e+06  \n",
            "25%    2.193750e+06  2.031750e+06  \n",
            "50%    2.616500e+06  2.399500e+06  \n",
            "75%    2.776250e+06  2.603000e+06  \n",
            "max    2.939000e+06  2.789000e+06  \n"
          ]
        }
      ]
    },
    {
      "cell_type": "code",
      "source": [],
      "metadata": {
        "id": "Re4kySrRnXE1"
      },
      "execution_count": 227,
      "outputs": []
    },
    {
      "cell_type": "code",
      "source": [
        "# Adding prefixes to the columns of each dataset for clarity\n",
        "ireland_prefixed = ireland_pivot.add_prefix('ireland_')\n",
        "poland_prefixed = poland.add_prefix('poland_')\n",
        "\n",
        "# Merging the datasets based on the 'Year' column\n",
        "merged = ireland_prefixed.merge(poland_prefixed, left_index=True, right_index=True)\n",
        "\n",
        "# Displaying the merged dataset\n",
        "print(merged)\n",
        "\n",
        "# Justifications:\n",
        "# - Adding prefixes to the columns of each dataset helps in distinguishing between variables\n",
        "#   from different datasets, enhancing clarity and avoiding potential naming conflicts.\n",
        "# - This ensures that columns from the Ireland dataset are easily identifiable and separate\n",
        "#   from those of the Poland dataset, making it clear which dataset each variable belongs to.\n",
        "# - Merging the datasets based on the 'Year' column combines the information from both datasets\n",
        "#   into a single dataset, facilitating comparative analysis between Ireland and Poland.\n",
        "# - The 'Year' column serves as a key to align the data from both datasets, allowing for\n",
        "#   meaningful comparisons and insights into trends and patterns over time.\n"
      ],
      "metadata": {
        "colab": {
          "base_uri": "https://localhost:8080/"
        },
        "id": "7hBHfRDpnfp5",
        "outputId": "38fa8c39-78ce-4370-ee27-1d4ded80c082"
      },
      "execution_count": 203,
      "outputs": [
        {
          "output_type": "stream",
          "name": "stdout",
          "text": [
            "      ireland_January  ireland_February  ireland_March  ireland_April  \\\n",
            "Year                                                                    \n",
            "2018          3218649           3118289        3097570        3350056   \n",
            "2019          3658484           3727609        4069124        3826763   \n",
            "2020          3799176           3770492        1950743         228633   \n",
            "2021           628704            643480         836934         940426   \n",
            "\n",
            "      ireland_May  ireland_June  ireland_July  ireland_August  \\\n",
            "Year                                                            \n",
            "2018      3622338       3378751       3490513         3363274   \n",
            "2019      4003472       3750724       4130610         3781395   \n",
            "2020       368914        762376       1293479         1469350   \n",
            "2021      1366567       1712148       1821536         1883500   \n",
            "\n",
            "      ireland_September  ireland_October  ...  poland_march  poland_april  \\\n",
            "Year                                      ...                               \n",
            "2018            3487373          3919977  ...       2439000       2526000   \n",
            "2019            4166802          4502319  ...       2815000       2652000   \n",
            "2020            1534789          1325561  ...       1775000        610000   \n",
            "2021            2222412          2525575  ...       1523000       1397000   \n",
            "\n",
            "      poland_may  poland_june  poland_july  poland_august  poland_september  \\\n",
            "Year                                                                          \n",
            "2018     2676000      2597000      2638000        2631000           2591000   \n",
            "2019     2846000      2735000      2810000        2830000           2882000   \n",
            "2020      980000      1455000      1889000        2014000           2161000   \n",
            "2021     1893000      2110000      2352000        2491000           2489000   \n",
            "\n",
            "      poland_october  poland_november  poland_december  \n",
            "Year                                                    \n",
            "2018         2847000          2722000          2541000  \n",
            "2019         3119000          2939000          2789000  \n",
            "2020         1854000          1242000          1353000  \n",
            "2021         2697000          2511000          2258000  \n",
            "\n",
            "[4 rows x 24 columns]\n"
          ]
        }
      ]
    },
    {
      "cell_type": "code",
      "source": [
        "# Changing column names to lowercase for consistency\n",
        "merged.columns = merged.columns.str.lower()\n",
        "# Justification:\n",
        "# - Changing column names to lowercase ensures consistency in the naming convention across all columns,\n",
        "#   improving readability and maintainability of the dataset.\n",
        "# - Consistent naming conventions make it easier to access and manipulate columns programmatically,\n",
        "#   reducing the likelihood of errors and enhancing the efficiency of data analysis and visualization."
      ],
      "metadata": {
        "colab": {
          "base_uri": "https://localhost:8080/"
        },
        "id": "Qtn0G4u1o7XE",
        "outputId": "71d47df5-17c9-4451-e218-dea26ce62bb5"
      },
      "execution_count": 210,
      "outputs": [
        {
          "output_type": "stream",
          "name": "stdout",
          "text": [
            "Columns ireland_january or poland_january not found in the merged dataset.\n",
            "Columns ireland_february or poland_february not found in the merged dataset.\n",
            "Columns ireland_march or poland_march not found in the merged dataset.\n",
            "Columns ireland_april or poland_april not found in the merged dataset.\n",
            "Columns ireland_may or poland_may not found in the merged dataset.\n",
            "Columns ireland_june or poland_june not found in the merged dataset.\n",
            "Columns ireland_july or poland_july not found in the merged dataset.\n",
            "Columns ireland_august or poland_august not found in the merged dataset.\n",
            "Columns ireland_september or poland_september not found in the merged dataset.\n",
            "Columns ireland_october or poland_october not found in the merged dataset.\n",
            "Columns ireland_november or poland_november not found in the merged dataset.\n",
            "Columns ireland_december or poland_december not found in the merged dataset.\n"
          ]
        }
      ]
    },
    {
      "cell_type": "code",
      "source": [
        "\n"
      ],
      "metadata": {
        "id": "PURi5WtKqtZ4"
      },
      "execution_count": 227,
      "outputs": []
    },
    {
      "cell_type": "code",
      "source": [
        "from scipy.stats import ttest_ind\n",
        "# Justifications:\n",
        "# - The t-test is a statistical test used to determine if there is a significant difference\n",
        "#   between the means of two groups, in this case, the monthly values for Ireland and Poland.\n",
        "# - Importing ttest_ind from scipy.stats enables us to perform an independent t-test between\n",
        "#   the monthly values of Ireland and Poland for each month.\n",
        "# - This helps in assessing whether there are statistically significant differences in the\n",
        "#   monthly values between the two countries, providing insights into potential variations\n",
        "#   in transportation trends or patterns.\n",
        "\n",
        "# Defining the months\n",
        "months = ['January', 'February', 'March', 'April', 'May', 'June', 'July', 'August', 'September', 'October', 'November', 'December']\n",
        "# Justifications:\n",
        "# - Defining the months creates a list of month names, which will be used to access the\n",
        "#   corresponding columns in the merged dataset for each month.\n",
        "# - This ensures consistency in accessing the monthly data and facilitates looping through\n",
        "#   each month for the t-test analysis.\n",
        "# Performing t-test for each month\n",
        "for month in months:\n",
        "    ireland_column = f'ireland_{month.lower()}'\n",
        "    poland_column = f'poland_{month.lower()}'\n",
        "    t_statistic, p_value = ttest_ind(merged[ireland_column], merged[poland_column])\n",
        "    print(f\"T-test result for {month}:\")\n",
        "    print(f\"T-statistic: {t_statistic}, p-value: {p_value}\")\n",
        "    if p_value < 0.05:\n",
        "        print(\"Significant difference between Ireland and Poland for this month.\")\n",
        "    else:\n",
        "        print(\"No significant difference between Ireland and Poland for this month.\")\n",
        "    print()\n",
        "# Justifications:\n",
        "# - The loop iterates through each month and conducts an independent t-test to compare\n",
        "#   the monthly values between Ireland and Poland.\n",
        "# - Printing the t-statistic and p-value for each test allows for the assessment of\n",
        "#   statistical significance and interpretation of the results.\n",
        "# - The conditional statements determine whether there is a significant difference\n",
        "#   between Ireland and Poland for each month based on the p-value threshold of 0.05.\n"
      ],
      "metadata": {
        "colab": {
          "base_uri": "https://localhost:8080/"
        },
        "id": "pFP21cj00jIM",
        "outputId": "f4a3e35a-1e93-45ae-a864-462ba3a8883b"
      },
      "execution_count": 215,
      "outputs": [
        {
          "output_type": "stream",
          "name": "stdout",
          "text": [
            "T-test result for January:\n",
            "T-statistic: 0.5938142421129462, p-value: 0.5743255731846981\n",
            "No significant difference between Ireland and Poland for this month.\n",
            "\n",
            "T-test result for February:\n",
            "T-statistic: 0.7071477954774688, p-value: 0.5059976989545489\n",
            "No significant difference between Ireland and Poland for this month.\n",
            "\n",
            "T-test result for March:\n",
            "T-statistic: 0.4608438793469617, p-value: 0.6611420900299617\n",
            "No significant difference between Ireland and Poland for this month.\n",
            "\n",
            "T-test result for April:\n",
            "T-statistic: 0.28757544976866406, p-value: 0.783345986746984\n",
            "No significant difference between Ireland and Poland for this month.\n",
            "\n",
            "T-test result for May:\n",
            "T-statistic: 0.24752493020740815, p-value: 0.8127547297374184\n",
            "No significant difference between Ireland and Poland for this month.\n",
            "\n",
            "T-test result for June:\n",
            "T-statistic: 0.23238508046931017, p-value: 0.823962663379068\n",
            "No significant difference between Ireland and Poland for this month.\n",
            "\n",
            "T-test result for July:\n",
            "T-statistic: 0.3731308576874657, p-value: 0.7218783440600753\n",
            "No significant difference between Ireland and Poland for this month.\n",
            "\n",
            "T-test result for August:\n",
            "T-statistic: 0.2265116070065212, p-value: 0.8283232083811338\n",
            "No significant difference between Ireland and Poland for this month.\n",
            "\n",
            "T-test result for September:\n",
            "T-statistic: 0.5242737936799903, p-value: 0.6188836629187129\n",
            "No significant difference between Ireland and Poland for this month.\n",
            "\n",
            "T-test result for October:\n",
            "T-statistic: 0.574667694846298, p-value: 0.5864011720031435\n",
            "No significant difference between Ireland and Poland for this month.\n",
            "\n",
            "T-test result for November:\n",
            "T-statistic: 0.7983344610491618, p-value: 0.45510516538926626\n",
            "No significant difference between Ireland and Poland for this month.\n",
            "\n",
            "T-test result for December:\n",
            "T-statistic: 1.0782149184678043, p-value: 0.322365263292704\n",
            "No significant difference between Ireland and Poland for this month.\n",
            "\n"
          ]
        }
      ]
    },
    {
      "cell_type": "code",
      "source": [
        "from sklearn.cluster import KMeans\n",
        "from sklearn.preprocessing import StandardScaler\n",
        "\n",
        "# Justifications:\n",
        "# - Importing KMeans from sklearn.cluster allows us to perform KMeans clustering,\n",
        "#   an unsupervised learning algorithm used for partitioning data into clusters.\n",
        "# - Importing StandardScaler from sklearn.preprocessing enables us to standardize\n",
        "#   the features by removing the mean and scaling to unit variance, which is essential\n",
        "#   for KMeans clustering as it is sensitive to the scale of the features.\n",
        "\n",
        "# Extracting the time series data from the merged dataframe\n",
        "time_series_data = merged.values\n",
        "\n",
        "# Justifications:\n",
        "# - Extracting the time series data from the merged dataframe prepares the data\n",
        "#   for clustering, ensuring that only the numerical values are used for analysis.\n",
        "\n",
        "# Standardize the time series data\n",
        "scaler = StandardScaler()\n",
        "scaled_data = scaler.fit_transform(time_series_data)\n",
        "\n",
        "# Justifications:\n",
        "# - Standardizing the time series data ensures that each feature (column) has a\n",
        "#   mean of 0 and a standard deviation of 1, which is a requirement for many\n",
        "#   machine learning algorithms, including KMeans clustering.\n",
        "\n",
        "# Define the number of clusters\n",
        "num_clusters = 3  # You can adjust this based on your requirements\n",
        "\n",
        "# Justifications:\n",
        "# - Defining the number of clusters specifies the desired number of groups\n",
        "#   into which the data should be partitioned, allowing for flexibility\n",
        "#   in adjusting the granularity of the clustering based on the analysis objectives.\n",
        "\n",
        "# Perform KMeans clustering\n",
        "kmeans = KMeans(n_clusters=num_clusters, random_state=42)\n",
        "clusters = kmeans.fit_predict(scaled_data)\n",
        "\n",
        "# Justifications:\n",
        "# - Performing KMeans clustering assigns each data point to one of the specified\n",
        "#   clusters based on their similarity, with the centroids representing the\n",
        "#   center of each cluster.\n",
        "\n",
        "# Assign the cluster labels to the merged dataframe\n",
        "merged['Cluster'] = clusters\n",
        "\n",
        "# Justifications:\n",
        "# - Assigning the cluster labels to the merged dataframe allows for the visualization\n",
        "#   and interpretation of the clustering results alongside the original data.\n",
        "\n",
        "# Check the cluster assignments\n",
        "print(merged.head())\n"
      ],
      "metadata": {
        "colab": {
          "base_uri": "https://localhost:8080/"
        },
        "id": "ru8uvK6X0uN2",
        "outputId": "d2b23d67-abe6-49f6-f491-f62a566d20e7"
      },
      "execution_count": 231,
      "outputs": [
        {
          "output_type": "stream",
          "name": "stdout",
          "text": [
            "      ireland_january  ireland_february  ireland_march  ireland_april  \\\n",
            "Year                                                                    \n",
            "2018          3218649           3118289        3097570        3350056   \n",
            "2019          3658484           3727609        4069124        3826763   \n",
            "2020          3799176           3770492        1950743         228633   \n",
            "2021           628704            643480         836934         940426   \n",
            "\n",
            "      ireland_may  ireland_june  ireland_july  ireland_august  \\\n",
            "Year                                                            \n",
            "2018      3622338       3378751       3490513         3363274   \n",
            "2019      4003472       3750724       4130610         3781395   \n",
            "2020       368914        762376       1293479         1469350   \n",
            "2021      1366567       1712148       1821536         1883500   \n",
            "\n",
            "      ireland_september  ireland_october  ...  poland_april  poland_may  \\\n",
            "Year                                      ...                             \n",
            "2018            3487373          3919977  ...       2526000     2676000   \n",
            "2019            4166802          4502319  ...       2652000     2846000   \n",
            "2020            1534789          1325561  ...        610000      980000   \n",
            "2021            2222412          2525575  ...       1397000     1893000   \n",
            "\n",
            "      poland_june  poland_july  poland_august  poland_september  \\\n",
            "Year                                                              \n",
            "2018      2597000      2638000        2631000           2591000   \n",
            "2019      2735000      2810000        2830000           2882000   \n",
            "2020      1455000      1889000        2014000           2161000   \n",
            "2021      2110000      2352000        2491000           2489000   \n",
            "\n",
            "      poland_october  poland_november  poland_december  Cluster  \n",
            "Year                                                             \n",
            "2018         2847000          2722000          2541000        1  \n",
            "2019         3119000          2939000          2789000        1  \n",
            "2020         1854000          1242000          1353000        0  \n",
            "2021         2697000          2511000          2258000        2  \n",
            "\n",
            "[4 rows x 25 columns]\n"
          ]
        },
        {
          "output_type": "stream",
          "name": "stderr",
          "text": [
            "/usr/local/lib/python3.10/dist-packages/sklearn/cluster/_kmeans.py:870: FutureWarning:\n",
            "\n",
            "The default value of `n_init` will change from 10 to 'auto' in 1.4. Set the value of `n_init` explicitly to suppress the warning\n",
            "\n"
          ]
        }
      ]
    },
    {
      "cell_type": "code",
      "source": [
        "# Compute cluster centroids\n",
        "cluster_centroids = merged.groupby('Cluster').mean()\n",
        "\n",
        "# Justifications:\n",
        "# - Computing cluster centroids calculates the mean value of each feature\n",
        "#   (column) within each cluster, representing the central tendency of the\n",
        "#   data points belonging to that cluster.\n",
        "# - Grouping the data by cluster and computing the mean allows for the identification\n",
        "#   of characteristic patterns or behaviors associated with each cluster.\n",
        "\n",
        "# Display the cluster centroids\n",
        "print(\"Cluster Centroids:\")\n",
        "print(cluster_centroids)\n"
      ],
      "metadata": {
        "colab": {
          "base_uri": "https://localhost:8080/"
        },
        "id": "4gJx36WP1CAc",
        "outputId": "f54bab5e-aeec-4514-f598-e764dc79b994"
      },
      "execution_count": 220,
      "outputs": [
        {
          "output_type": "stream",
          "name": "stdout",
          "text": [
            "Cluster Centroids:\n",
            "         ireland_january  ireland_february  ireland_march  ireland_april  \\\n",
            "Cluster                                                                    \n",
            "0              3799176.0         3770492.0      1950743.0       228633.0   \n",
            "1              3438566.5         3422949.0      3583347.0      3588409.5   \n",
            "2               628704.0          643480.0       836934.0       940426.0   \n",
            "\n",
            "         ireland_may  ireland_june  ireland_july  ireland_august  \\\n",
            "Cluster                                                            \n",
            "0           368914.0      762376.0     1293479.0       1469350.0   \n",
            "1          3812905.0     3564737.5     3810561.5       3572334.5   \n",
            "2          1366567.0     1712148.0     1821536.0       1883500.0   \n",
            "\n",
            "         ireland_september  ireland_october  ...  poland_march  poland_april  \\\n",
            "Cluster                                      ...                               \n",
            "0                1534789.0        1325561.0  ...     1775000.0      610000.0   \n",
            "1                3827087.5        4211148.0  ...     2627000.0     2589000.0   \n",
            "2                2222412.0        2525575.0  ...     1523000.0     1397000.0   \n",
            "\n",
            "         poland_may  poland_june  poland_july  poland_august  \\\n",
            "Cluster                                                        \n",
            "0          980000.0    1455000.0    1889000.0      2014000.0   \n",
            "1         2761000.0    2666000.0    2724000.0      2730500.0   \n",
            "2         1893000.0    2110000.0    2352000.0      2491000.0   \n",
            "\n",
            "         poland_september  poland_october  poland_november  poland_december  \n",
            "Cluster                                                                      \n",
            "0               2161000.0       1854000.0        1242000.0        1353000.0  \n",
            "1               2736500.0       2983000.0        2830500.0        2665000.0  \n",
            "2               2489000.0       2697000.0        2511000.0        2258000.0  \n",
            "\n",
            "[3 rows x 24 columns]\n"
          ]
        }
      ]
    },
    {
      "cell_type": "code",
      "source": [
        "import plotly.express as px\n",
        "\n",
        "# Justifications:\n",
        "# - Importing Plotly Express (px) allows us to create interactive and\n",
        "#   visually appealing plots with minimal code, facilitating the visualization\n",
        "#   of complex data patterns and trends.\n",
        "\n",
        "# Reshape the DataFrame for plotting\n",
        "cluster_centroids_melted = cluster_centroids.reset_index().melt(id_vars='Cluster', var_name='Month', value_name='Passenger Amount')\n",
        "\n",
        "# Justifications:\n",
        "# - Reshaping the DataFrame for plotting transforms the data into a format\n",
        "#   suitable for visualization, where each row represents a combination of\n",
        "#   cluster, month, and passenger amount.\n",
        "\n",
        "# Plot the clustered time series data\n",
        "fig = px.line(cluster_centroids_melted, x='Month', y='Passenger Amount', color='Cluster', title='Clustered Time Series Data',\n",
        "              labels={'Passenger Amount': 'Passenger Amount', 'Month': 'Month', 'Cluster': 'Cluster'})\n",
        "fig.update_xaxes(tickangle=45)\n",
        "fig.show()\n",
        "\n",
        "# Justifications:\n",
        "# - Plotting the clustered time series data using a line plot allows for the\n",
        "#   visualization of trends and patterns across different clusters over time.\n",
        "# - Customizing the plot by specifying labels and adjusting the x-axis tick\n",
        "#   angles enhances readability and interpretability of the visualization.\n",
        "# - Interactive features provided by Plotly Express enable exploration and\n",
        "#   analysis of the clustered data directly within the plot.\n"
      ],
      "metadata": {
        "colab": {
          "base_uri": "https://localhost:8080/",
          "height": 542
        },
        "id": "ucVEo8vQ4uB0",
        "outputId": "24ff7653-8405-42d3-d0f2-4529fa797eb9"
      },
      "execution_count": 222,
      "outputs": [
        {
          "output_type": "display_data",
          "data": {
            "text/html": [
              "<html>\n",
              "<head><meta charset=\"utf-8\" /></head>\n",
              "<body>\n",
              "    <div>            <script src=\"https://cdnjs.cloudflare.com/ajax/libs/mathjax/2.7.5/MathJax.js?config=TeX-AMS-MML_SVG\"></script><script type=\"text/javascript\">if (window.MathJax && window.MathJax.Hub && window.MathJax.Hub.Config) {window.MathJax.Hub.Config({SVG: {font: \"STIX-Web\"}});}</script>                <script type=\"text/javascript\">window.PlotlyConfig = {MathJaxConfig: 'local'};</script>\n",
              "        <script charset=\"utf-8\" src=\"https://cdn.plot.ly/plotly-2.24.1.min.js\"></script>                <div id=\"f3bff588-d9e5-4d05-b8c9-bc12742d6d16\" class=\"plotly-graph-div\" style=\"height:525px; width:100%;\"></div>            <script type=\"text/javascript\">                                    window.PLOTLYENV=window.PLOTLYENV || {};                                    if (document.getElementById(\"f3bff588-d9e5-4d05-b8c9-bc12742d6d16\")) {                    Plotly.newPlot(                        \"f3bff588-d9e5-4d05-b8c9-bc12742d6d16\",                        [{\"hovertemplate\":\"Cluster=0\\u003cbr\\u003eMonth=%{x}\\u003cbr\\u003ePassenger Amount=%{y}\\u003cextra\\u003e\\u003c\\u002fextra\\u003e\",\"legendgroup\":\"0\",\"line\":{\"color\":\"#636efa\",\"dash\":\"solid\"},\"marker\":{\"symbol\":\"circle\"},\"mode\":\"lines\",\"name\":\"0\",\"orientation\":\"v\",\"showlegend\":true,\"x\":[\"ireland_january\",\"ireland_february\",\"ireland_march\",\"ireland_april\",\"ireland_may\",\"ireland_june\",\"ireland_july\",\"ireland_august\",\"ireland_september\",\"ireland_october\",\"ireland_november\",\"ireland_december\",\"poland_january\",\"poland_february\",\"poland_march\",\"poland_april\",\"poland_may\",\"poland_june\",\"poland_july\",\"poland_august\",\"poland_september\",\"poland_october\",\"poland_november\",\"poland_december\"],\"xaxis\":\"x\",\"y\":[3799176.0,3770492.0,1950743.0,228633.0,368914.0,762376.0,1293479.0,1469350.0,1534789.0,1325561.0,1024219.0,1648324.0,2853000.0,2754000.0,1775000.0,610000.0,980000.0,1455000.0,1889000.0,2014000.0,2161000.0,1854000.0,1242000.0,1353000.0],\"yaxis\":\"y\",\"type\":\"scatter\"},{\"hovertemplate\":\"Cluster=1\\u003cbr\\u003eMonth=%{x}\\u003cbr\\u003ePassenger Amount=%{y}\\u003cextra\\u003e\\u003c\\u002fextra\\u003e\",\"legendgroup\":\"1\",\"line\":{\"color\":\"#EF553B\",\"dash\":\"solid\"},\"marker\":{\"symbol\":\"circle\"},\"mode\":\"lines\",\"name\":\"1\",\"orientation\":\"v\",\"showlegend\":true,\"x\":[\"ireland_january\",\"ireland_february\",\"ireland_march\",\"ireland_april\",\"ireland_may\",\"ireland_june\",\"ireland_july\",\"ireland_august\",\"ireland_september\",\"ireland_october\",\"ireland_november\",\"ireland_december\",\"poland_january\",\"poland_february\",\"poland_march\",\"poland_april\",\"poland_may\",\"poland_june\",\"poland_july\",\"poland_august\",\"poland_september\",\"poland_october\",\"poland_november\",\"poland_december\"],\"xaxis\":\"x\",\"y\":[3438566.5,3422949.0,3583347.0,3588409.5,3812905.0,3564737.5,3810561.5,3572334.5,3827087.5,4211148.0,4257142.0,4002912.0,2578500.0,2417500.0,2627000.0,2589000.0,2761000.0,2666000.0,2724000.0,2730500.0,2736500.0,2983000.0,2830500.0,2665000.0],\"yaxis\":\"y\",\"type\":\"scatter\"},{\"hovertemplate\":\"Cluster=2\\u003cbr\\u003eMonth=%{x}\\u003cbr\\u003ePassenger Amount=%{y}\\u003cextra\\u003e\\u003c\\u002fextra\\u003e\",\"legendgroup\":\"2\",\"line\":{\"color\":\"#00cc96\",\"dash\":\"solid\"},\"marker\":{\"symbol\":\"circle\"},\"mode\":\"lines\",\"name\":\"2\",\"orientation\":\"v\",\"showlegend\":true,\"x\":[\"ireland_january\",\"ireland_february\",\"ireland_march\",\"ireland_april\",\"ireland_may\",\"ireland_june\",\"ireland_july\",\"ireland_august\",\"ireland_september\",\"ireland_october\",\"ireland_november\",\"ireland_december\",\"poland_january\",\"poland_february\",\"poland_march\",\"poland_april\",\"poland_may\",\"poland_june\",\"poland_july\",\"poland_august\",\"poland_september\",\"poland_october\",\"poland_november\",\"poland_december\"],\"xaxis\":\"x\",\"y\":[628704.0,643480.0,836934.0,940426.0,1366567.0,1712148.0,1821536.0,1883500.0,2222412.0,2525575.0,2646334.0,2253703.0,1359000.0,1425000.0,1523000.0,1397000.0,1893000.0,2110000.0,2352000.0,2491000.0,2489000.0,2697000.0,2511000.0,2258000.0],\"yaxis\":\"y\",\"type\":\"scatter\"}],                        {\"template\":{\"data\":{\"histogram2dcontour\":[{\"type\":\"histogram2dcontour\",\"colorbar\":{\"outlinewidth\":0,\"ticks\":\"\"},\"colorscale\":[[0.0,\"#0d0887\"],[0.1111111111111111,\"#46039f\"],[0.2222222222222222,\"#7201a8\"],[0.3333333333333333,\"#9c179e\"],[0.4444444444444444,\"#bd3786\"],[0.5555555555555556,\"#d8576b\"],[0.6666666666666666,\"#ed7953\"],[0.7777777777777778,\"#fb9f3a\"],[0.8888888888888888,\"#fdca26\"],[1.0,\"#f0f921\"]]}],\"choropleth\":[{\"type\":\"choropleth\",\"colorbar\":{\"outlinewidth\":0,\"ticks\":\"\"}}],\"histogram2d\":[{\"type\":\"histogram2d\",\"colorbar\":{\"outlinewidth\":0,\"ticks\":\"\"},\"colorscale\":[[0.0,\"#0d0887\"],[0.1111111111111111,\"#46039f\"],[0.2222222222222222,\"#7201a8\"],[0.3333333333333333,\"#9c179e\"],[0.4444444444444444,\"#bd3786\"],[0.5555555555555556,\"#d8576b\"],[0.6666666666666666,\"#ed7953\"],[0.7777777777777778,\"#fb9f3a\"],[0.8888888888888888,\"#fdca26\"],[1.0,\"#f0f921\"]]}],\"heatmap\":[{\"type\":\"heatmap\",\"colorbar\":{\"outlinewidth\":0,\"ticks\":\"\"},\"colorscale\":[[0.0,\"#0d0887\"],[0.1111111111111111,\"#46039f\"],[0.2222222222222222,\"#7201a8\"],[0.3333333333333333,\"#9c179e\"],[0.4444444444444444,\"#bd3786\"],[0.5555555555555556,\"#d8576b\"],[0.6666666666666666,\"#ed7953\"],[0.7777777777777778,\"#fb9f3a\"],[0.8888888888888888,\"#fdca26\"],[1.0,\"#f0f921\"]]}],\"heatmapgl\":[{\"type\":\"heatmapgl\",\"colorbar\":{\"outlinewidth\":0,\"ticks\":\"\"},\"colorscale\":[[0.0,\"#0d0887\"],[0.1111111111111111,\"#46039f\"],[0.2222222222222222,\"#7201a8\"],[0.3333333333333333,\"#9c179e\"],[0.4444444444444444,\"#bd3786\"],[0.5555555555555556,\"#d8576b\"],[0.6666666666666666,\"#ed7953\"],[0.7777777777777778,\"#fb9f3a\"],[0.8888888888888888,\"#fdca26\"],[1.0,\"#f0f921\"]]}],\"contourcarpet\":[{\"type\":\"contourcarpet\",\"colorbar\":{\"outlinewidth\":0,\"ticks\":\"\"}}],\"contour\":[{\"type\":\"contour\",\"colorbar\":{\"outlinewidth\":0,\"ticks\":\"\"},\"colorscale\":[[0.0,\"#0d0887\"],[0.1111111111111111,\"#46039f\"],[0.2222222222222222,\"#7201a8\"],[0.3333333333333333,\"#9c179e\"],[0.4444444444444444,\"#bd3786\"],[0.5555555555555556,\"#d8576b\"],[0.6666666666666666,\"#ed7953\"],[0.7777777777777778,\"#fb9f3a\"],[0.8888888888888888,\"#fdca26\"],[1.0,\"#f0f921\"]]}],\"surface\":[{\"type\":\"surface\",\"colorbar\":{\"outlinewidth\":0,\"ticks\":\"\"},\"colorscale\":[[0.0,\"#0d0887\"],[0.1111111111111111,\"#46039f\"],[0.2222222222222222,\"#7201a8\"],[0.3333333333333333,\"#9c179e\"],[0.4444444444444444,\"#bd3786\"],[0.5555555555555556,\"#d8576b\"],[0.6666666666666666,\"#ed7953\"],[0.7777777777777778,\"#fb9f3a\"],[0.8888888888888888,\"#fdca26\"],[1.0,\"#f0f921\"]]}],\"mesh3d\":[{\"type\":\"mesh3d\",\"colorbar\":{\"outlinewidth\":0,\"ticks\":\"\"}}],\"scatter\":[{\"fillpattern\":{\"fillmode\":\"overlay\",\"size\":10,\"solidity\":0.2},\"type\":\"scatter\"}],\"parcoords\":[{\"type\":\"parcoords\",\"line\":{\"colorbar\":{\"outlinewidth\":0,\"ticks\":\"\"}}}],\"scatterpolargl\":[{\"type\":\"scatterpolargl\",\"marker\":{\"colorbar\":{\"outlinewidth\":0,\"ticks\":\"\"}}}],\"bar\":[{\"error_x\":{\"color\":\"#2a3f5f\"},\"error_y\":{\"color\":\"#2a3f5f\"},\"marker\":{\"line\":{\"color\":\"#E5ECF6\",\"width\":0.5},\"pattern\":{\"fillmode\":\"overlay\",\"size\":10,\"solidity\":0.2}},\"type\":\"bar\"}],\"scattergeo\":[{\"type\":\"scattergeo\",\"marker\":{\"colorbar\":{\"outlinewidth\":0,\"ticks\":\"\"}}}],\"scatterpolar\":[{\"type\":\"scatterpolar\",\"marker\":{\"colorbar\":{\"outlinewidth\":0,\"ticks\":\"\"}}}],\"histogram\":[{\"marker\":{\"pattern\":{\"fillmode\":\"overlay\",\"size\":10,\"solidity\":0.2}},\"type\":\"histogram\"}],\"scattergl\":[{\"type\":\"scattergl\",\"marker\":{\"colorbar\":{\"outlinewidth\":0,\"ticks\":\"\"}}}],\"scatter3d\":[{\"type\":\"scatter3d\",\"line\":{\"colorbar\":{\"outlinewidth\":0,\"ticks\":\"\"}},\"marker\":{\"colorbar\":{\"outlinewidth\":0,\"ticks\":\"\"}}}],\"scattermapbox\":[{\"type\":\"scattermapbox\",\"marker\":{\"colorbar\":{\"outlinewidth\":0,\"ticks\":\"\"}}}],\"scatterternary\":[{\"type\":\"scatterternary\",\"marker\":{\"colorbar\":{\"outlinewidth\":0,\"ticks\":\"\"}}}],\"scattercarpet\":[{\"type\":\"scattercarpet\",\"marker\":{\"colorbar\":{\"outlinewidth\":0,\"ticks\":\"\"}}}],\"carpet\":[{\"aaxis\":{\"endlinecolor\":\"#2a3f5f\",\"gridcolor\":\"white\",\"linecolor\":\"white\",\"minorgridcolor\":\"white\",\"startlinecolor\":\"#2a3f5f\"},\"baxis\":{\"endlinecolor\":\"#2a3f5f\",\"gridcolor\":\"white\",\"linecolor\":\"white\",\"minorgridcolor\":\"white\",\"startlinecolor\":\"#2a3f5f\"},\"type\":\"carpet\"}],\"table\":[{\"cells\":{\"fill\":{\"color\":\"#EBF0F8\"},\"line\":{\"color\":\"white\"}},\"header\":{\"fill\":{\"color\":\"#C8D4E3\"},\"line\":{\"color\":\"white\"}},\"type\":\"table\"}],\"barpolar\":[{\"marker\":{\"line\":{\"color\":\"#E5ECF6\",\"width\":0.5},\"pattern\":{\"fillmode\":\"overlay\",\"size\":10,\"solidity\":0.2}},\"type\":\"barpolar\"}],\"pie\":[{\"automargin\":true,\"type\":\"pie\"}]},\"layout\":{\"autotypenumbers\":\"strict\",\"colorway\":[\"#636efa\",\"#EF553B\",\"#00cc96\",\"#ab63fa\",\"#FFA15A\",\"#19d3f3\",\"#FF6692\",\"#B6E880\",\"#FF97FF\",\"#FECB52\"],\"font\":{\"color\":\"#2a3f5f\"},\"hovermode\":\"closest\",\"hoverlabel\":{\"align\":\"left\"},\"paper_bgcolor\":\"white\",\"plot_bgcolor\":\"#E5ECF6\",\"polar\":{\"bgcolor\":\"#E5ECF6\",\"angularaxis\":{\"gridcolor\":\"white\",\"linecolor\":\"white\",\"ticks\":\"\"},\"radialaxis\":{\"gridcolor\":\"white\",\"linecolor\":\"white\",\"ticks\":\"\"}},\"ternary\":{\"bgcolor\":\"#E5ECF6\",\"aaxis\":{\"gridcolor\":\"white\",\"linecolor\":\"white\",\"ticks\":\"\"},\"baxis\":{\"gridcolor\":\"white\",\"linecolor\":\"white\",\"ticks\":\"\"},\"caxis\":{\"gridcolor\":\"white\",\"linecolor\":\"white\",\"ticks\":\"\"}},\"coloraxis\":{\"colorbar\":{\"outlinewidth\":0,\"ticks\":\"\"}},\"colorscale\":{\"sequential\":[[0.0,\"#0d0887\"],[0.1111111111111111,\"#46039f\"],[0.2222222222222222,\"#7201a8\"],[0.3333333333333333,\"#9c179e\"],[0.4444444444444444,\"#bd3786\"],[0.5555555555555556,\"#d8576b\"],[0.6666666666666666,\"#ed7953\"],[0.7777777777777778,\"#fb9f3a\"],[0.8888888888888888,\"#fdca26\"],[1.0,\"#f0f921\"]],\"sequentialminus\":[[0.0,\"#0d0887\"],[0.1111111111111111,\"#46039f\"],[0.2222222222222222,\"#7201a8\"],[0.3333333333333333,\"#9c179e\"],[0.4444444444444444,\"#bd3786\"],[0.5555555555555556,\"#d8576b\"],[0.6666666666666666,\"#ed7953\"],[0.7777777777777778,\"#fb9f3a\"],[0.8888888888888888,\"#fdca26\"],[1.0,\"#f0f921\"]],\"diverging\":[[0,\"#8e0152\"],[0.1,\"#c51b7d\"],[0.2,\"#de77ae\"],[0.3,\"#f1b6da\"],[0.4,\"#fde0ef\"],[0.5,\"#f7f7f7\"],[0.6,\"#e6f5d0\"],[0.7,\"#b8e186\"],[0.8,\"#7fbc41\"],[0.9,\"#4d9221\"],[1,\"#276419\"]]},\"xaxis\":{\"gridcolor\":\"white\",\"linecolor\":\"white\",\"ticks\":\"\",\"title\":{\"standoff\":15},\"zerolinecolor\":\"white\",\"automargin\":true,\"zerolinewidth\":2},\"yaxis\":{\"gridcolor\":\"white\",\"linecolor\":\"white\",\"ticks\":\"\",\"title\":{\"standoff\":15},\"zerolinecolor\":\"white\",\"automargin\":true,\"zerolinewidth\":2},\"scene\":{\"xaxis\":{\"backgroundcolor\":\"#E5ECF6\",\"gridcolor\":\"white\",\"linecolor\":\"white\",\"showbackground\":true,\"ticks\":\"\",\"zerolinecolor\":\"white\",\"gridwidth\":2},\"yaxis\":{\"backgroundcolor\":\"#E5ECF6\",\"gridcolor\":\"white\",\"linecolor\":\"white\",\"showbackground\":true,\"ticks\":\"\",\"zerolinecolor\":\"white\",\"gridwidth\":2},\"zaxis\":{\"backgroundcolor\":\"#E5ECF6\",\"gridcolor\":\"white\",\"linecolor\":\"white\",\"showbackground\":true,\"ticks\":\"\",\"zerolinecolor\":\"white\",\"gridwidth\":2}},\"shapedefaults\":{\"line\":{\"color\":\"#2a3f5f\"}},\"annotationdefaults\":{\"arrowcolor\":\"#2a3f5f\",\"arrowhead\":0,\"arrowwidth\":1},\"geo\":{\"bgcolor\":\"white\",\"landcolor\":\"#E5ECF6\",\"subunitcolor\":\"white\",\"showland\":true,\"showlakes\":true,\"lakecolor\":\"white\"},\"title\":{\"x\":0.05},\"mapbox\":{\"style\":\"light\"}}},\"xaxis\":{\"anchor\":\"y\",\"domain\":[0.0,1.0],\"title\":{\"text\":\"Month\"},\"tickangle\":45},\"yaxis\":{\"anchor\":\"x\",\"domain\":[0.0,1.0],\"title\":{\"text\":\"Passenger Amount\"}},\"legend\":{\"title\":{\"text\":\"Cluster\"},\"tracegroupgap\":0},\"title\":{\"text\":\"Clustered Time Series Data\"}},                        {\"responsive\": true}                    ).then(function(){\n",
              "                            \n",
              "var gd = document.getElementById('f3bff588-d9e5-4d05-b8c9-bc12742d6d16');\n",
              "var x = new MutationObserver(function (mutations, observer) {{\n",
              "        var display = window.getComputedStyle(gd).display;\n",
              "        if (!display || display === 'none') {{\n",
              "            console.log([gd, 'removed!']);\n",
              "            Plotly.purge(gd);\n",
              "            observer.disconnect();\n",
              "        }}\n",
              "}});\n",
              "\n",
              "// Listen for the removal of the full notebook cells\n",
              "var notebookContainer = gd.closest('#notebook-container');\n",
              "if (notebookContainer) {{\n",
              "    x.observe(notebookContainer, {childList: true});\n",
              "}}\n",
              "\n",
              "// Listen for the clearing of the current output cell\n",
              "var outputEl = gd.closest('.output');\n",
              "if (outputEl) {{\n",
              "    x.observe(outputEl, {childList: true});\n",
              "}}\n",
              "\n",
              "                        })                };                            </script>        </div>\n",
              "</body>\n",
              "</html>"
            ]
          },
          "metadata": {}
        }
      ]
    },
    {
      "cell_type": "code",
      "source": [
        "# Justifications:\n",
        "# - In this code snippet, we demonstrate various techniques for time series analysis, including calculating\n",
        "#   the slope, rate of change, moving average, and exponential moving average (EMA) of a time series data.\n",
        "\n",
        "# Example time series data\n",
        "# Replace this with your actual time series data\n",
        "time_series_data = pd.Series([10, 20, 30, 40, 50, 60, 70, 80, 90, 100])\n",
        "\n",
        "# Calculate slope using linear regression\n",
        "slope = (time_series_data.iloc[-1] - time_series_data.iloc[0]) / len(time_series_data)\n",
        "\n",
        "# Justifications:\n",
        "# - Calculating the slope using linear regression provides an indication of the trend or directionality\n",
        "#   of the time series data over the specified period.\n",
        "# - It measures the average rate of change of the time series data over time, helping to identify whether\n",
        "#   the data is increasing, decreasing, or remaining constant.\n",
        "\n",
        "# Calculate rate of change\n",
        "rate_of_change = (time_series_data.diff() / time_series_data.shift(1)) * 100\n",
        "\n",
        "# Justifications:\n",
        "# - Computing the rate of change quantifies the percentage change between consecutive data points in the\n",
        "#   time series, providing insights into the volatility or stability of the data.\n",
        "# - It helps in understanding the magnitude and direction of fluctuations in the time series data over time.\n",
        "\n",
        "# Calculate moving average\n",
        "window_size = 3\n",
        "moving_avg = time_series_data.rolling(window=window_size).mean()\n",
        "\n",
        "# Justifications:\n",
        "# - Calculating the moving average smoothens the time series data by averaging values over a specified\n",
        "#   window size, thereby reducing noise and highlighting underlying trends or patterns.\n",
        "# - It helps in identifying long-term trends or cycles in the data, making it easier to discern patterns\n",
        "#   and anomalies.\n",
        "\n",
        "# Calculate exponential moving average (EMA)\n",
        "ema = time_series_data.ewm(span=window_size, adjust=False).mean()\n",
        "\n",
        "# Justifications:\n",
        "# - Computing the exponential moving average (EMA) assigns exponentially decreasing weights to previous\n",
        "#   data points, giving more importance to recent observations while still considering historical data.\n",
        "# - EMA is particularly useful for capturing short-term trends or responding quickly to changes in the data,\n",
        "#   making it suitable for forecasting or detecting abrupt shifts in the time series.\n",
        "\n",
        "# Print the results\n",
        "print(\"Slope:\", slope)\n",
        "print(\"Rate of Change:\")\n",
        "print(rate_of_change)\n",
        "print(\"Moving Average (window size={}):\".format(window_size))\n",
        "print(moving_avg)\n",
        "print(\"Exponential Moving Average (window size={}):\".format(window_size))\n",
        "print(ema)\n"
      ],
      "metadata": {
        "colab": {
          "base_uri": "https://localhost:8080/"
        },
        "id": "vqZeatQz4z1_",
        "outputId": "08e9b843-11ea-4cf5-933a-2116a7a7fd2e"
      },
      "execution_count": 232,
      "outputs": [
        {
          "output_type": "stream",
          "name": "stdout",
          "text": [
            "Slope: 9.0\n",
            "Rate of Change:\n",
            "0           NaN\n",
            "1    100.000000\n",
            "2     50.000000\n",
            "3     33.333333\n",
            "4     25.000000\n",
            "5     20.000000\n",
            "6     16.666667\n",
            "7     14.285714\n",
            "8     12.500000\n",
            "9     11.111111\n",
            "dtype: float64\n",
            "Moving Average (window size=3):\n",
            "0     NaN\n",
            "1     NaN\n",
            "2    20.0\n",
            "3    30.0\n",
            "4    40.0\n",
            "5    50.0\n",
            "6    60.0\n",
            "7    70.0\n",
            "8    80.0\n",
            "9    90.0\n",
            "dtype: float64\n",
            "Exponential Moving Average (window size=3):\n",
            "0    10.000000\n",
            "1    15.000000\n",
            "2    22.500000\n",
            "3    31.250000\n",
            "4    40.625000\n",
            "5    50.312500\n",
            "6    60.156250\n",
            "7    70.078125\n",
            "8    80.039062\n",
            "9    90.019531\n",
            "dtype: float64\n"
          ]
        }
      ]
    },
    {
      "cell_type": "code",
      "source": [
        "from sklearn.model_selection import train_test_split\n",
        "from sklearn.linear_model import LinearRegression\n",
        "from sklearn.metrics import mean_squared_error\n",
        "\n",
        "# Justifications:\n",
        "# - Importing necessary modules from scikit-learn enables us to perform machine learning tasks,\n",
        "#   such as splitting the data, training a linear regression model, and evaluating model performance.\n",
        "\n",
        "# Extracting the years from the index\n",
        "years = merged.index.values.reshape(-1, 1)\n",
        "\n",
        "# Justifications:\n",
        "# - Extracting the years from the index prepares the independent variable (features) for model training,\n",
        "#   allowing us to use the time information for predicting passenger amounts.\n",
        "\n",
        "# Reshaping the passenger data to have each month as a separate feature\n",
        "passenger_data = merged.drop(columns=['Cluster']).values\n",
        "\n",
        "# Justifications:\n",
        "# - Reshaping the passenger data to have each month as a separate feature prepares the dependent variable\n",
        "#   (target) for model training, ensuring that the data is in the appropriate format for regression analysis.\n",
        "\n",
        "# Splitting the data into training and testing sets\n",
        "X_train, X_test, y_train, y_test = train_test_split(years, passenger_data, test_size=0.2, random_state=42)\n",
        "\n",
        "# Justifications:\n",
        "# - Splitting the data into training and testing sets enables us to assess the performance of the model\n",
        "#   on unseen data, helping to evaluate its generalization ability and potential for making accurate predictions.\n",
        "\n",
        "# Initialize and fit the linear regression model\n",
        "model = LinearRegression()\n",
        "model.fit(X_train, y_train)\n",
        "\n",
        "# Justifications:\n",
        "# - Initializing and fitting a linear regression model allows us to learn the relationship between\n",
        "#   the independent variable (years) and the dependent variable (passenger amounts), enabling us to\n",
        "#   make predictions based on this relationship.\n",
        "\n",
        "# Predict passenger amounts for the test set\n",
        "y_pred = model.predict(X_test)\n",
        "\n",
        "# Justifications:\n",
        "# - Making predictions for the test set using the trained model allows us to assess its performance\n",
        "#   in estimating passenger amounts for unseen data.\n",
        "\n",
        "# Calculate Mean Squared Error\n",
        "mse = mean_squared_error(y_test, y_pred)\n",
        "print(\"Mean Squared Error:\", mse)\n",
        "\n",
        "# Justifications:\n",
        "# - Calculating the Mean Squared Error (MSE) provides a measure of the average squared difference\n",
        "#   between the predicted and actual passenger amounts in the test set.\n",
        "# - MSE quantifies the performance of the regression model, with lower values indicating better\n",
        "#   predictive accuracy and higher values suggesting greater discrepancy between predicted and\n",
        "#   actual values.\n"
      ],
      "metadata": {
        "colab": {
          "base_uri": "https://localhost:8080/"
        },
        "id": "KpdvPvmC582R",
        "outputId": "d46bf3c9-b31c-4354-f72c-09ccef393581"
      },
      "execution_count": 233,
      "outputs": [
        {
          "output_type": "stream",
          "name": "stdout",
          "text": [
            "Mean Squared Error: 1120507923422.285\n"
          ]
        }
      ]
    },
    {
      "cell_type": "code",
      "source": [
        "from sklearn.linear_model import Ridge, Lasso\n",
        "from sklearn.svm import SVR\n"
      ],
      "metadata": {
        "id": "KvHr9qz-YbbH"
      },
      "execution_count": 234,
      "outputs": []
    },
    {
      "cell_type": "code",
      "source": [
        "\n",
        "from sklearn.model_selection import train_test_split\n",
        "from sklearn.linear_model import LinearRegression, Ridge, Lasso\n",
        "from sklearn.svm import SVR\n",
        "from sklearn.metrics import mean_squared_error\n",
        "\n",
        "# Define functions for model training and evaluation\n",
        "def train_and_evaluate_model(model, X_train, X_test, y_train, y_test):\n",
        "    try:\n",
        "        # Train the model\n",
        "        model.fit(X_train, y_train)\n",
        "\n",
        "        # Predict passenger amounts for the test set\n",
        "        y_pred = model.predict(X_test)\n",
        "\n",
        "        # Calculate Mean Squared Error\n",
        "        mse = mean_squared_error(y_test, y_pred)\n",
        "        print(\"Mean Squared Error:\", mse)\n",
        "    except Exception as e:\n",
        "        print(\"Error occurred:\", e)\n",
        "\n",
        "# Justification:\n",
        "# - The train_and_evaluate_model function is defined to encapsulate the process of training\n",
        "#   and evaluating regression models. It takes a model instance and the training and testing\n",
        "#   data as input, fits the model, predicts target values for the test set, calculates\n",
        "#   Mean Squared Error (MSE) between the predicted and actual values, and prints the result.\n",
        "# - Error handling is incorporated within the function to catch any exceptions that may occur\n",
        "#   during model training or evaluation, ensuring that the code can handle unforeseen issues\n",
        "#   gracefully and continue execution.\n",
        "\n",
        "# Splitting the data into training and testing sets\n",
        "X_train, X_test, y_train, y_test = train_test_split(years, passenger_data, test_size=0.2, random_state=42)\n",
        "\n",
        "# Justification:\n",
        "# - The train_test_split function divides the data into training and testing sets, allowing\n",
        "#   for model training on one subset and evaluation on another. This helps assess the model's\n",
        "#   generalization performance on unseen data.\n",
        "\n",
        "# Initialize regression models\n",
        "models = {\n",
        "    \"Linear Regression\": LinearRegression(),\n",
        "    \"Ridge Regression\": Ridge(),\n",
        "    \"Lasso Regression\": Lasso(),\n",
        "    \"SVR\": SVR()\n",
        "}\n",
        "\n",
        "# Justification:\n",
        "# - Multiple regression models, including Linear Regression, Ridge Regression, Lasso Regression,\n",
        "#   and Support Vector Regression (SVR), are initialized to compare their performance in predicting\n",
        "#   passenger amounts. This enables exploration of different modeling approaches to find the most\n",
        "#   suitable one for the given dataset.\n",
        "\n",
        "# Train and evaluate each model\n",
        "for name, model in models.items():\n",
        "    print(\"Training and evaluating\", name)\n",
        "    train_and_evaluate_model(model, X_train, X_test, y_train, y_test)\n",
        "\n",
        "# Justification:\n",
        "# - The loop iterates over each regression model, calling the train_and_evaluate_model function\n",
        "#   for each model to train, evaluate, and print the MSE. This allows for a comparative analysis\n",
        "#   of the models' performance in predicting passenger amounts, aiding in model selection and\n",
        "#   decision-making.\n"
      ],
      "metadata": {
        "colab": {
          "base_uri": "https://localhost:8080/"
        },
        "id": "7OJIIgfCzffT",
        "outputId": "56277613-b93b-4ba8-8d89-78a94d9d9d04"
      },
      "execution_count": 236,
      "outputs": [
        {
          "output_type": "stream",
          "name": "stdout",
          "text": [
            "Training and evaluating Linear Regression\n",
            "Mean Squared Error: 1120507923422.285\n",
            "Training and evaluating Ridge Regression\n",
            "Mean Squared Error: 1245769379234.805\n",
            "Training and evaluating Lasso Regression\n",
            "Mean Squared Error: 1120508728852.5547\n",
            "Training and evaluating SVR\n",
            "Error occurred: y should be a 1d array, got an array of shape (3, 24) instead.\n"
          ]
        }
      ]
    },
    {
      "cell_type": "code",
      "source": [
        "https://github.com/FarhadKhankishiyev068/2023068_BIGData_CA2/blob/main/RepeatProgramming.ipynb"
      ],
      "metadata": {
        "colab": {
          "base_uri": "https://localhost:8080/",
          "height": 211
        },
        "id": "90nbmMA4zhns",
        "outputId": "e047da33-9bad-4dc6-8ef6-576b980833ef"
      },
      "execution_count": 237,
      "outputs": [
        {
          "output_type": "error",
          "ename": "SyntaxError",
          "evalue": "invalid decimal literal (<ipython-input-237-c74682e2a5c7>, line 1)",
          "traceback": [
            "\u001b[0;31m---------------------------------------------------------------------------\u001b[0m",
            "\u001b[0;31mSyntaxError\u001b[0m                               Traceback (most recent call last)",
            "\u001b[0;32m/usr/local/lib/python3.10/dist-packages/IPython/core/compilerop.py\u001b[0m in \u001b[0;36mast_parse\u001b[0;34m(self, source, filename, symbol)\u001b[0m\n\u001b[1;32m     99\u001b[0m         \u001b[0mArguments\u001b[0m \u001b[0mare\u001b[0m \u001b[0mexactly\u001b[0m \u001b[0mthe\u001b[0m \u001b[0msame\u001b[0m \u001b[0;32mas\u001b[0m \u001b[0mast\u001b[0m\u001b[0;34m.\u001b[0m\u001b[0mparse\u001b[0m \u001b[0;34m(\u001b[0m\u001b[0;32min\u001b[0m \u001b[0mthe\u001b[0m \u001b[0mstandard\u001b[0m \u001b[0mlibrary\u001b[0m\u001b[0;34m)\u001b[0m\u001b[0;34m,\u001b[0m\u001b[0;34m\u001b[0m\u001b[0;34m\u001b[0m\u001b[0m\n\u001b[1;32m    100\u001b[0m         and are passed to the built-in compile function.\"\"\"\n\u001b[0;32m--> 101\u001b[0;31m         \u001b[0;32mreturn\u001b[0m \u001b[0mcompile\u001b[0m\u001b[0;34m(\u001b[0m\u001b[0msource\u001b[0m\u001b[0;34m,\u001b[0m \u001b[0mfilename\u001b[0m\u001b[0;34m,\u001b[0m \u001b[0msymbol\u001b[0m\u001b[0;34m,\u001b[0m \u001b[0mself\u001b[0m\u001b[0;34m.\u001b[0m\u001b[0mflags\u001b[0m \u001b[0;34m|\u001b[0m \u001b[0mPyCF_ONLY_AST\u001b[0m\u001b[0;34m,\u001b[0m \u001b[0;36m1\u001b[0m\u001b[0;34m)\u001b[0m\u001b[0;34m\u001b[0m\u001b[0;34m\u001b[0m\u001b[0m\n\u001b[0m\u001b[1;32m    102\u001b[0m \u001b[0;34m\u001b[0m\u001b[0m\n\u001b[1;32m    103\u001b[0m     \u001b[0;32mdef\u001b[0m \u001b[0mreset_compiler_flags\u001b[0m\u001b[0;34m(\u001b[0m\u001b[0mself\u001b[0m\u001b[0;34m)\u001b[0m\u001b[0;34m:\u001b[0m\u001b[0;34m\u001b[0m\u001b[0;34m\u001b[0m\u001b[0m\n",
            "\u001b[0;31mSyntaxError\u001b[0m: invalid decimal literal (<ipython-input-237-c74682e2a5c7>, line 1)"
          ]
        }
      ]
    },
    {
      "cell_type": "code",
      "source": [],
      "metadata": {
        "id": "ye3PQEmHG724"
      },
      "execution_count": null,
      "outputs": []
    }
  ]
}